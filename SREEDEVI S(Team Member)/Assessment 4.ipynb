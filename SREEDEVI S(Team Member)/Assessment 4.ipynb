{
  "nbformat": 4,
  "nbformat_minor": 0,
  "metadata": {
    "colab": {
      "provenance": [],
      "collapsed_sections": []
    },
    "kernelspec": {
      "name": "python3",
      "display_name": "Python 3"
    },
    "language_info": {
      "name": "python"
    }
  },
  "cells": [
    {
      "cell_type": "markdown",
      "source": [
        "# ***1. Download the dataset: Dataset***"
      ],
      "metadata": {
        "id": "vuGkTqACLl0b"
      }
    },
    {
      "cell_type": "markdown",
      "source": [
        "# ***2. Load the dataset into the tool.***"
      ],
      "metadata": {
        "id": "ONeP9iP5Ly7C"
      }
    },
    {
      "cell_type": "code",
      "execution_count": 18,
      "metadata": {
        "id": "JxF5dwteH47n"
      },
      "outputs": [],
      "source": [
        "import pandas as pd\n",
        "import numpy as np"
      ]
    },
    {
      "cell_type": "code",
      "source": [
        "import matplotlib.pyplot as plt\n",
        "import seaborn as sns"
      ],
      "metadata": {
        "id": "s5SUXgGhID_C"
      },
      "execution_count": 19,
      "outputs": []
    },
    {
      "cell_type": "code",
      "source": [
        "data = pd.read_csv(\"/content/Mall_Customers.csv\")\n",
        "data.head()"
      ],
      "metadata": {
        "colab": {
          "base_uri": "https://localhost:8080/",
          "height": 206
        },
        "id": "Kta2rsqQITlO",
        "outputId": "b309abd5-8dfd-4ecc-d93c-5abc89ffc524"
      },
      "execution_count": 20,
      "outputs": [
        {
          "output_type": "execute_result",
          "data": {
            "text/plain": [
              "   CustomerID  Gender  Age  Annual Income (k$)  Spending Score (1-100)\n",
              "0           1    Male   19                  15                      39\n",
              "1           2    Male   21                  15                      81\n",
              "2           3  Female   20                  16                       6\n",
              "3           4  Female   23                  16                      77\n",
              "4           5  Female   31                  17                      40"
            ],
            "text/html": [
              "\n",
              "  <div id=\"df-37bfcc0e-243a-4357-b880-993e453544b5\">\n",
              "    <div class=\"colab-df-container\">\n",
              "      <div>\n",
              "<style scoped>\n",
              "    .dataframe tbody tr th:only-of-type {\n",
              "        vertical-align: middle;\n",
              "    }\n",
              "\n",
              "    .dataframe tbody tr th {\n",
              "        vertical-align: top;\n",
              "    }\n",
              "\n",
              "    .dataframe thead th {\n",
              "        text-align: right;\n",
              "    }\n",
              "</style>\n",
              "<table border=\"1\" class=\"dataframe\">\n",
              "  <thead>\n",
              "    <tr style=\"text-align: right;\">\n",
              "      <th></th>\n",
              "      <th>CustomerID</th>\n",
              "      <th>Gender</th>\n",
              "      <th>Age</th>\n",
              "      <th>Annual Income (k$)</th>\n",
              "      <th>Spending Score (1-100)</th>\n",
              "    </tr>\n",
              "  </thead>\n",
              "  <tbody>\n",
              "    <tr>\n",
              "      <th>0</th>\n",
              "      <td>1</td>\n",
              "      <td>Male</td>\n",
              "      <td>19</td>\n",
              "      <td>15</td>\n",
              "      <td>39</td>\n",
              "    </tr>\n",
              "    <tr>\n",
              "      <th>1</th>\n",
              "      <td>2</td>\n",
              "      <td>Male</td>\n",
              "      <td>21</td>\n",
              "      <td>15</td>\n",
              "      <td>81</td>\n",
              "    </tr>\n",
              "    <tr>\n",
              "      <th>2</th>\n",
              "      <td>3</td>\n",
              "      <td>Female</td>\n",
              "      <td>20</td>\n",
              "      <td>16</td>\n",
              "      <td>6</td>\n",
              "    </tr>\n",
              "    <tr>\n",
              "      <th>3</th>\n",
              "      <td>4</td>\n",
              "      <td>Female</td>\n",
              "      <td>23</td>\n",
              "      <td>16</td>\n",
              "      <td>77</td>\n",
              "    </tr>\n",
              "    <tr>\n",
              "      <th>4</th>\n",
              "      <td>5</td>\n",
              "      <td>Female</td>\n",
              "      <td>31</td>\n",
              "      <td>17</td>\n",
              "      <td>40</td>\n",
              "    </tr>\n",
              "  </tbody>\n",
              "</table>\n",
              "</div>\n",
              "      <button class=\"colab-df-convert\" onclick=\"convertToInteractive('df-37bfcc0e-243a-4357-b880-993e453544b5')\"\n",
              "              title=\"Convert this dataframe to an interactive table.\"\n",
              "              style=\"display:none;\">\n",
              "        \n",
              "  <svg xmlns=\"http://www.w3.org/2000/svg\" height=\"24px\"viewBox=\"0 0 24 24\"\n",
              "       width=\"24px\">\n",
              "    <path d=\"M0 0h24v24H0V0z\" fill=\"none\"/>\n",
              "    <path d=\"M18.56 5.44l.94 2.06.94-2.06 2.06-.94-2.06-.94-.94-2.06-.94 2.06-2.06.94zm-11 1L8.5 8.5l.94-2.06 2.06-.94-2.06-.94L8.5 2.5l-.94 2.06-2.06.94zm10 10l.94 2.06.94-2.06 2.06-.94-2.06-.94-.94-2.06-.94 2.06-2.06.94z\"/><path d=\"M17.41 7.96l-1.37-1.37c-.4-.4-.92-.59-1.43-.59-.52 0-1.04.2-1.43.59L10.3 9.45l-7.72 7.72c-.78.78-.78 2.05 0 2.83L4 21.41c.39.39.9.59 1.41.59.51 0 1.02-.2 1.41-.59l7.78-7.78 2.81-2.81c.8-.78.8-2.07 0-2.86zM5.41 20L4 18.59l7.72-7.72 1.47 1.35L5.41 20z\"/>\n",
              "  </svg>\n",
              "      </button>\n",
              "      \n",
              "  <style>\n",
              "    .colab-df-container {\n",
              "      display:flex;\n",
              "      flex-wrap:wrap;\n",
              "      gap: 12px;\n",
              "    }\n",
              "\n",
              "    .colab-df-convert {\n",
              "      background-color: #E8F0FE;\n",
              "      border: none;\n",
              "      border-radius: 50%;\n",
              "      cursor: pointer;\n",
              "      display: none;\n",
              "      fill: #1967D2;\n",
              "      height: 32px;\n",
              "      padding: 0 0 0 0;\n",
              "      width: 32px;\n",
              "    }\n",
              "\n",
              "    .colab-df-convert:hover {\n",
              "      background-color: #E2EBFA;\n",
              "      box-shadow: 0px 1px 2px rgba(60, 64, 67, 0.3), 0px 1px 3px 1px rgba(60, 64, 67, 0.15);\n",
              "      fill: #174EA6;\n",
              "    }\n",
              "\n",
              "    [theme=dark] .colab-df-convert {\n",
              "      background-color: #3B4455;\n",
              "      fill: #D2E3FC;\n",
              "    }\n",
              "\n",
              "    [theme=dark] .colab-df-convert:hover {\n",
              "      background-color: #434B5C;\n",
              "      box-shadow: 0px 1px 3px 1px rgba(0, 0, 0, 0.15);\n",
              "      filter: drop-shadow(0px 1px 2px rgba(0, 0, 0, 0.3));\n",
              "      fill: #FFFFFF;\n",
              "    }\n",
              "  </style>\n",
              "\n",
              "      <script>\n",
              "        const buttonEl =\n",
              "          document.querySelector('#df-37bfcc0e-243a-4357-b880-993e453544b5 button.colab-df-convert');\n",
              "        buttonEl.style.display =\n",
              "          google.colab.kernel.accessAllowed ? 'block' : 'none';\n",
              "\n",
              "        async function convertToInteractive(key) {\n",
              "          const element = document.querySelector('#df-37bfcc0e-243a-4357-b880-993e453544b5');\n",
              "          const dataTable =\n",
              "            await google.colab.kernel.invokeFunction('convertToInteractive',\n",
              "                                                     [key], {});\n",
              "          if (!dataTable) return;\n",
              "\n",
              "          const docLinkHtml = 'Like what you see? Visit the ' +\n",
              "            '<a target=\"_blank\" href=https://colab.research.google.com/notebooks/data_table.ipynb>data table notebook</a>'\n",
              "            + ' to learn more about interactive tables.';\n",
              "          element.innerHTML = '';\n",
              "          dataTable['output_type'] = 'display_data';\n",
              "          await google.colab.output.renderOutput(dataTable, element);\n",
              "          const docLink = document.createElement('div');\n",
              "          docLink.innerHTML = docLinkHtml;\n",
              "          element.appendChild(docLink);\n",
              "        }\n",
              "      </script>\n",
              "    </div>\n",
              "  </div>\n",
              "  "
            ]
          },
          "metadata": {},
          "execution_count": 20
        }
      ]
    },
    {
      "cell_type": "markdown",
      "source": [
        "# ***3. Perform Below Visualizations.***"
      ],
      "metadata": {
        "id": "q9jvIaJeMCOk"
      }
    },
    {
      "cell_type": "markdown",
      "source": [
        "## ***Univariate Analysis***"
      ],
      "metadata": {
        "id": "OZ8v9fSzMLFp"
      }
    },
    {
      "cell_type": "code",
      "source": [
        "data.info()"
      ],
      "metadata": {
        "colab": {
          "base_uri": "https://localhost:8080/"
        },
        "id": "dRCe7rhmMZ35",
        "outputId": "92750510-58c9-4f50-aec6-2321188efa01"
      },
      "execution_count": 21,
      "outputs": [
        {
          "output_type": "stream",
          "name": "stdout",
          "text": [
            "<class 'pandas.core.frame.DataFrame'>\n",
            "RangeIndex: 200 entries, 0 to 199\n",
            "Data columns (total 5 columns):\n",
            " #   Column                  Non-Null Count  Dtype \n",
            "---  ------                  --------------  ----- \n",
            " 0   CustomerID              200 non-null    int64 \n",
            " 1   Gender                  200 non-null    object\n",
            " 2   Age                     200 non-null    int64 \n",
            " 3   Annual Income (k$)      200 non-null    int64 \n",
            " 4   Spending Score (1-100)  200 non-null    int64 \n",
            "dtypes: int64(4), object(1)\n",
            "memory usage: 7.9+ KB\n"
          ]
        }
      ]
    },
    {
      "cell_type": "code",
      "source": [
        "data.describe()"
      ],
      "metadata": {
        "colab": {
          "base_uri": "https://localhost:8080/",
          "height": 300
        },
        "id": "TutQCRN1hTG3",
        "outputId": "9599d912-436d-4b4e-cfac-20c786a05974"
      },
      "execution_count": 22,
      "outputs": [
        {
          "output_type": "execute_result",
          "data": {
            "text/plain": [
              "       CustomerID         Age  Annual Income (k$)  Spending Score (1-100)\n",
              "count  200.000000  200.000000          200.000000              200.000000\n",
              "mean   100.500000   38.850000           60.560000               50.200000\n",
              "std     57.879185   13.969007           26.264721               25.823522\n",
              "min      1.000000   18.000000           15.000000                1.000000\n",
              "25%     50.750000   28.750000           41.500000               34.750000\n",
              "50%    100.500000   36.000000           61.500000               50.000000\n",
              "75%    150.250000   49.000000           78.000000               73.000000\n",
              "max    200.000000   70.000000          137.000000               99.000000"
            ],
            "text/html": [
              "\n",
              "  <div id=\"df-04b83a47-b3d3-4a38-8271-2813f737229b\">\n",
              "    <div class=\"colab-df-container\">\n",
              "      <div>\n",
              "<style scoped>\n",
              "    .dataframe tbody tr th:only-of-type {\n",
              "        vertical-align: middle;\n",
              "    }\n",
              "\n",
              "    .dataframe tbody tr th {\n",
              "        vertical-align: top;\n",
              "    }\n",
              "\n",
              "    .dataframe thead th {\n",
              "        text-align: right;\n",
              "    }\n",
              "</style>\n",
              "<table border=\"1\" class=\"dataframe\">\n",
              "  <thead>\n",
              "    <tr style=\"text-align: right;\">\n",
              "      <th></th>\n",
              "      <th>CustomerID</th>\n",
              "      <th>Age</th>\n",
              "      <th>Annual Income (k$)</th>\n",
              "      <th>Spending Score (1-100)</th>\n",
              "    </tr>\n",
              "  </thead>\n",
              "  <tbody>\n",
              "    <tr>\n",
              "      <th>count</th>\n",
              "      <td>200.000000</td>\n",
              "      <td>200.000000</td>\n",
              "      <td>200.000000</td>\n",
              "      <td>200.000000</td>\n",
              "    </tr>\n",
              "    <tr>\n",
              "      <th>mean</th>\n",
              "      <td>100.500000</td>\n",
              "      <td>38.850000</td>\n",
              "      <td>60.560000</td>\n",
              "      <td>50.200000</td>\n",
              "    </tr>\n",
              "    <tr>\n",
              "      <th>std</th>\n",
              "      <td>57.879185</td>\n",
              "      <td>13.969007</td>\n",
              "      <td>26.264721</td>\n",
              "      <td>25.823522</td>\n",
              "    </tr>\n",
              "    <tr>\n",
              "      <th>min</th>\n",
              "      <td>1.000000</td>\n",
              "      <td>18.000000</td>\n",
              "      <td>15.000000</td>\n",
              "      <td>1.000000</td>\n",
              "    </tr>\n",
              "    <tr>\n",
              "      <th>25%</th>\n",
              "      <td>50.750000</td>\n",
              "      <td>28.750000</td>\n",
              "      <td>41.500000</td>\n",
              "      <td>34.750000</td>\n",
              "    </tr>\n",
              "    <tr>\n",
              "      <th>50%</th>\n",
              "      <td>100.500000</td>\n",
              "      <td>36.000000</td>\n",
              "      <td>61.500000</td>\n",
              "      <td>50.000000</td>\n",
              "    </tr>\n",
              "    <tr>\n",
              "      <th>75%</th>\n",
              "      <td>150.250000</td>\n",
              "      <td>49.000000</td>\n",
              "      <td>78.000000</td>\n",
              "      <td>73.000000</td>\n",
              "    </tr>\n",
              "    <tr>\n",
              "      <th>max</th>\n",
              "      <td>200.000000</td>\n",
              "      <td>70.000000</td>\n",
              "      <td>137.000000</td>\n",
              "      <td>99.000000</td>\n",
              "    </tr>\n",
              "  </tbody>\n",
              "</table>\n",
              "</div>\n",
              "      <button class=\"colab-df-convert\" onclick=\"convertToInteractive('df-04b83a47-b3d3-4a38-8271-2813f737229b')\"\n",
              "              title=\"Convert this dataframe to an interactive table.\"\n",
              "              style=\"display:none;\">\n",
              "        \n",
              "  <svg xmlns=\"http://www.w3.org/2000/svg\" height=\"24px\"viewBox=\"0 0 24 24\"\n",
              "       width=\"24px\">\n",
              "    <path d=\"M0 0h24v24H0V0z\" fill=\"none\"/>\n",
              "    <path d=\"M18.56 5.44l.94 2.06.94-2.06 2.06-.94-2.06-.94-.94-2.06-.94 2.06-2.06.94zm-11 1L8.5 8.5l.94-2.06 2.06-.94-2.06-.94L8.5 2.5l-.94 2.06-2.06.94zm10 10l.94 2.06.94-2.06 2.06-.94-2.06-.94-.94-2.06-.94 2.06-2.06.94z\"/><path d=\"M17.41 7.96l-1.37-1.37c-.4-.4-.92-.59-1.43-.59-.52 0-1.04.2-1.43.59L10.3 9.45l-7.72 7.72c-.78.78-.78 2.05 0 2.83L4 21.41c.39.39.9.59 1.41.59.51 0 1.02-.2 1.41-.59l7.78-7.78 2.81-2.81c.8-.78.8-2.07 0-2.86zM5.41 20L4 18.59l7.72-7.72 1.47 1.35L5.41 20z\"/>\n",
              "  </svg>\n",
              "      </button>\n",
              "      \n",
              "  <style>\n",
              "    .colab-df-container {\n",
              "      display:flex;\n",
              "      flex-wrap:wrap;\n",
              "      gap: 12px;\n",
              "    }\n",
              "\n",
              "    .colab-df-convert {\n",
              "      background-color: #E8F0FE;\n",
              "      border: none;\n",
              "      border-radius: 50%;\n",
              "      cursor: pointer;\n",
              "      display: none;\n",
              "      fill: #1967D2;\n",
              "      height: 32px;\n",
              "      padding: 0 0 0 0;\n",
              "      width: 32px;\n",
              "    }\n",
              "\n",
              "    .colab-df-convert:hover {\n",
              "      background-color: #E2EBFA;\n",
              "      box-shadow: 0px 1px 2px rgba(60, 64, 67, 0.3), 0px 1px 3px 1px rgba(60, 64, 67, 0.15);\n",
              "      fill: #174EA6;\n",
              "    }\n",
              "\n",
              "    [theme=dark] .colab-df-convert {\n",
              "      background-color: #3B4455;\n",
              "      fill: #D2E3FC;\n",
              "    }\n",
              "\n",
              "    [theme=dark] .colab-df-convert:hover {\n",
              "      background-color: #434B5C;\n",
              "      box-shadow: 0px 1px 3px 1px rgba(0, 0, 0, 0.15);\n",
              "      filter: drop-shadow(0px 1px 2px rgba(0, 0, 0, 0.3));\n",
              "      fill: #FFFFFF;\n",
              "    }\n",
              "  </style>\n",
              "\n",
              "      <script>\n",
              "        const buttonEl =\n",
              "          document.querySelector('#df-04b83a47-b3d3-4a38-8271-2813f737229b button.colab-df-convert');\n",
              "        buttonEl.style.display =\n",
              "          google.colab.kernel.accessAllowed ? 'block' : 'none';\n",
              "\n",
              "        async function convertToInteractive(key) {\n",
              "          const element = document.querySelector('#df-04b83a47-b3d3-4a38-8271-2813f737229b');\n",
              "          const dataTable =\n",
              "            await google.colab.kernel.invokeFunction('convertToInteractive',\n",
              "                                                     [key], {});\n",
              "          if (!dataTable) return;\n",
              "\n",
              "          const docLinkHtml = 'Like what you see? Visit the ' +\n",
              "            '<a target=\"_blank\" href=https://colab.research.google.com/notebooks/data_table.ipynb>data table notebook</a>'\n",
              "            + ' to learn more about interactive tables.';\n",
              "          element.innerHTML = '';\n",
              "          dataTable['output_type'] = 'display_data';\n",
              "          await google.colab.output.renderOutput(dataTable, element);\n",
              "          const docLink = document.createElement('div');\n",
              "          docLink.innerHTML = docLinkHtml;\n",
              "          element.appendChild(docLink);\n",
              "        }\n",
              "      </script>\n",
              "    </div>\n",
              "  </div>\n",
              "  "
            ]
          },
          "metadata": {},
          "execution_count": 22
        }
      ]
    },
    {
      "cell_type": "code",
      "source": [
        "data.CustomerID.describe()"
      ],
      "metadata": {
        "colab": {
          "base_uri": "https://localhost:8080/"
        },
        "id": "NCcxtTXghZNF",
        "outputId": "6c991010-f6ef-4be4-c04e-b6a79ac4a229"
      },
      "execution_count": 23,
      "outputs": [
        {
          "output_type": "execute_result",
          "data": {
            "text/plain": [
              "count    200.000000\n",
              "mean     100.500000\n",
              "std       57.879185\n",
              "min        1.000000\n",
              "25%       50.750000\n",
              "50%      100.500000\n",
              "75%      150.250000\n",
              "max      200.000000\n",
              "Name: CustomerID, dtype: float64"
            ]
          },
          "metadata": {},
          "execution_count": 23
        }
      ]
    },
    {
      "cell_type": "code",
      "source": [
        "data.Age.describe()"
      ],
      "metadata": {
        "colab": {
          "base_uri": "https://localhost:8080/"
        },
        "id": "4GrJtOdNh81G",
        "outputId": "f535bf1e-8eb2-4d34-ef06-cdb849931c66"
      },
      "execution_count": 24,
      "outputs": [
        {
          "output_type": "execute_result",
          "data": {
            "text/plain": [
              "count    200.000000\n",
              "mean      38.850000\n",
              "std       13.969007\n",
              "min       18.000000\n",
              "25%       28.750000\n",
              "50%       36.000000\n",
              "75%       49.000000\n",
              "max       70.000000\n",
              "Name: Age, dtype: float64"
            ]
          },
          "metadata": {},
          "execution_count": 24
        }
      ]
    },
    {
      "cell_type": "code",
      "source": [
        "data[\"Annual Income (k$)\"].describe()"
      ],
      "metadata": {
        "colab": {
          "base_uri": "https://localhost:8080/"
        },
        "id": "RkMC3WJpiA3i",
        "outputId": "2d7449d0-f668-4e46-d0cf-14a42ae608cb"
      },
      "execution_count": 25,
      "outputs": [
        {
          "output_type": "execute_result",
          "data": {
            "text/plain": [
              "count    200.000000\n",
              "mean      60.560000\n",
              "std       26.264721\n",
              "min       15.000000\n",
              "25%       41.500000\n",
              "50%       61.500000\n",
              "75%       78.000000\n",
              "max      137.000000\n",
              "Name: Annual Income (k$), dtype: float64"
            ]
          },
          "metadata": {},
          "execution_count": 25
        }
      ]
    },
    {
      "cell_type": "code",
      "source": [
        "data[\"Spending Score (1-100)\"].describe()"
      ],
      "metadata": {
        "colab": {
          "base_uri": "https://localhost:8080/"
        },
        "id": "1ubimN1YiNFA",
        "outputId": "cdfda5ca-d9ec-4ff2-80cd-54c9d3c7e7b9"
      },
      "execution_count": 26,
      "outputs": [
        {
          "output_type": "execute_result",
          "data": {
            "text/plain": [
              "count    200.000000\n",
              "mean      50.200000\n",
              "std       25.823522\n",
              "min        1.000000\n",
              "25%       34.750000\n",
              "50%       50.000000\n",
              "75%       73.000000\n",
              "max       99.000000\n",
              "Name: Spending Score (1-100), dtype: float64"
            ]
          },
          "metadata": {},
          "execution_count": 26
        }
      ]
    },
    {
      "cell_type": "code",
      "source": [
        "sns.boxplot(data[\"CustomerID\"])"
      ],
      "metadata": {
        "colab": {
          "base_uri": "https://localhost:8080/",
          "height": 351
        },
        "id": "m55WK-kLizcW",
        "outputId": "1540a70e-0c8e-413a-ea04-68a68b14efdb"
      },
      "execution_count": 27,
      "outputs": [
        {
          "output_type": "stream",
          "name": "stderr",
          "text": [
            "/usr/local/lib/python3.7/dist-packages/seaborn/_decorators.py:43: FutureWarning: Pass the following variable as a keyword arg: x. From version 0.12, the only valid positional argument will be `data`, and passing other arguments without an explicit keyword will result in an error or misinterpretation.\n",
            "  FutureWarning\n"
          ]
        },
        {
          "output_type": "execute_result",
          "data": {
            "text/plain": [
              "<matplotlib.axes._subplots.AxesSubplot at 0x7f279c4f2c90>"
            ]
          },
          "metadata": {},
          "execution_count": 27
        },
        {
          "output_type": "display_data",
          "data": {
            "text/plain": [
              "<Figure size 432x288 with 1 Axes>"
            ],
            "image/png": "[encoded data removed]"
          },
          "metadata": {
            "needs_background": "light"
          }
        }
      ]
    },
    {
      "cell_type": "code",
      "source": [
        "sns.boxplot(data[\"Age\"])"
      ],
      "metadata": {
        "colab": {
          "base_uri": "https://localhost:8080/",
          "height": 351
        },
        "id": "qpsueADDi6Vh",
        "outputId": "562790db-663f-4a23-9b4a-706ec3ea9695"
      },
      "execution_count": 28,
      "outputs": [
        {
          "output_type": "stream",
          "name": "stderr",
          "text": [
            "/usr/local/lib/python3.7/dist-packages/seaborn/_decorators.py:43: FutureWarning: Pass the following variable as a keyword arg: x. From version 0.12, the only valid positional argument will be `data`, and passing other arguments without an explicit keyword will result in an error or misinterpretation.\n",
            "  FutureWarning\n"
          ]
        },
        {
          "output_type": "execute_result",
          "data": {
            "text/plain": [
              "<matplotlib.axes._subplots.AxesSubplot at 0x7f279c4423d0>"
            ]
          },
          "metadata": {},
          "execution_count": 28
        },
        {
          "output_type": "display_data",
          "data": {
            "text/plain": [
              "<Figure size 432x288 with 1 Axes>"
            ],
            "image/png": "[encoded data removed]"
          },
          "metadata": {
            "needs_background": "light"
          }
        }
      ]
    },
    {
      "cell_type": "code",
      "source": [
        "sns.boxplot(data[\"Annual Income (k$)\"])"
      ],
      "metadata": {
        "colab": {
          "base_uri": "https://localhost:8080/",
          "height": 351
        },
        "id": "KZaP7jeZjkAH",
        "outputId": "525cffa8-f239-4755-cf3e-597d7b8df84f"
      },
      "execution_count": 29,
      "outputs": [
        {
          "output_type": "stream",
          "name": "stderr",
          "text": [
            "/usr/local/lib/python3.7/dist-packages/seaborn/_decorators.py:43: FutureWarning: Pass the following variable as a keyword arg: x. From version 0.12, the only valid positional argument will be `data`, and passing other arguments without an explicit keyword will result in an error or misinterpretation.\n",
            "  FutureWarning\n"
          ]
        },
        {
          "output_type": "execute_result",
          "data": {
            "text/plain": [
              "<matplotlib.axes._subplots.AxesSubplot at 0x7f279c3b3ad0>"
            ]
          },
          "metadata": {},
          "execution_count": 29
        },
        {
          "output_type": "display_data",
          "data": {
            "text/plain": [
              "<Figure size 432x288 with 1 Axes>"
            ],
            "image/png": "[encoded data removed]"
          },
          "metadata": {
            "needs_background": "light"
          }
        }
      ]
    },
    {
      "cell_type": "code",
      "source": [
        "data.boxplot(column=[\"Spending Score (1-100)\"], grid=False)"
      ],
      "metadata": {
        "colab": {
          "base_uri": "https://localhost:8080/",
          "height": 282
        },
        "id": "ZN8lsnMojxe2",
        "outputId": "fa0c0484-2f2c-41d6-ba85-76fd76146b17"
      },
      "execution_count": 30,
      "outputs": [
        {
          "output_type": "execute_result",
          "data": {
            "text/plain": [
              "<matplotlib.axes._subplots.AxesSubplot at 0x7f279c2e6c90>"
            ]
          },
          "metadata": {},
          "execution_count": 30
        },
        {
          "output_type": "display_data",
          "data": {
            "text/plain": [
              "<Figure size 432x288 with 1 Axes>"
            ],
            "image/png": "[encoded data removed]"
          },
          "metadata": {
            "needs_background": "light"
          }
        }
      ]
    },
    {
      "cell_type": "code",
      "source": [
        "data.hist(column=\"Age\", grid=False, edgecolor='black')"
      ],
      "metadata": {
        "colab": {
          "base_uri": "https://localhost:8080/",
          "height": 316
        },
        "id": "4cQb99zzkNfI",
        "outputId": "fa54b15f-ce4d-4991-efb7-3e9b64c77e22"
      },
      "execution_count": 31,
      "outputs": [
        {
          "output_type": "execute_result",
          "data": {
            "text/plain": [
              "array([[<matplotlib.axes._subplots.AxesSubplot object at 0x7f279c2625d0>]],\n",
              "      dtype=object)"
            ]
          },
          "metadata": {},
          "execution_count": 31
        },
        {
          "output_type": "display_data",
          "data": {
            "text/plain": [
              "<Figure size 432x288 with 1 Axes>"
            ],
            "image/png": "[encoded data removed]"
          },
          "metadata": {
            "needs_background": "light"
          }
        }
      ]
    },
    {
      "cell_type": "code",
      "source": [
        "import warnings\n",
        "warnings.filterwarnings('ignore')"
      ],
      "metadata": {
        "id": "ww4azE5pk3CH"
      },
      "execution_count": 32,
      "outputs": []
    },
    {
      "cell_type": "code",
      "source": [
        "plt.figure(figsize=(8,5))\n",
        "Credit = data['Spending Score (1-100)']\n",
        "sns.distplot(Credit)"
      ],
      "metadata": {
        "colab": {
          "base_uri": "https://localhost:8080/",
          "height": 355
        },
        "id": "wRBsuSjPk3tj",
        "outputId": "d882686b-d01f-4bef-b7b1-be5354b612e9"
      },
      "execution_count": 33,
      "outputs": [
        {
          "output_type": "execute_result",
          "data": {
            "text/plain": [
              "<matplotlib.axes._subplots.AxesSubplot at 0x7f279c1d7dd0>"
            ]
          },
          "metadata": {},
          "execution_count": 33
        },
        {
          "output_type": "display_data",
          "data": {
            "text/plain": [
              "<Figure size 576x360 with 1 Axes>"
            ],
            "image/png": "[encoded data removed]"
          },
          "metadata": {
            "needs_background": "light"
          }
        }
      ]
    },
    {
      "cell_type": "code",
      "source": [
        "sns.kdeplot(data['Spending Score (1-100)'])"
      ],
      "metadata": {
        "colab": {
          "base_uri": "https://localhost:8080/",
          "height": 296
        },
        "id": "3wyEdRVMlA8B",
        "outputId": "b60ad0f2-e83b-4789-f8a8-18b86c759d29"
      },
      "execution_count": 34,
      "outputs": [
        {
          "output_type": "execute_result",
          "data": {
            "text/plain": [
              "<matplotlib.axes._subplots.AxesSubplot at 0x7f279c123310>"
            ]
          },
          "metadata": {},
          "execution_count": 34
        },
        {
          "output_type": "display_data",
          "data": {
            "text/plain": [
              "<Figure size 432x288 with 1 Axes>"
            ],
            "image/png": "[encoded data removed]"
          },
          "metadata": {
            "needs_background": "light"
          }
        }
      ]
    },
    {
      "cell_type": "markdown",
      "source": [
        "# ***Bi-variate Analysis***"
      ],
      "metadata": {
        "id": "shRHRjVclOjC"
      }
    },
    {
      "cell_type": "code",
      "source": [
        "age_below = data.query(\"Age < 50\")\n",
        "sns.lineplot(data=age_below, x=\"Annual Income (k$)\", y=\"Spending Score (1-100)\")"
      ],
      "metadata": {
        "id": "7WpxNdiDlLww",
        "colab": {
          "base_uri": "https://localhost:8080/",
          "height": 296
        },
        "outputId": "38cc9c17-f528-43b2-e85a-e476ac6738b9"
      },
      "execution_count": 35,
      "outputs": [
        {
          "output_type": "execute_result",
          "data": {
            "text/plain": [
              "<matplotlib.axes._subplots.AxesSubplot at 0x7f279c0a8dd0>"
            ]
          },
          "metadata": {},
          "execution_count": 35
        },
        {
          "output_type": "display_data",
          "data": {
            "text/plain": [
              "<Figure size 432x288 with 1 Axes>"
            ],
            "image/png": "[encoded data removed]"
          },
          "metadata": {
            "needs_background": "light"
          }
        }
      ]
    },
    {
      "cell_type": "code",
      "source": [
        "g = sns.pairplot(data, diag_kind=\"kde\", markers=\"+\",\n",
        "                 plot_kws=dict(s=50, edgecolor=\"b\", linewidth=1),\n",
        "                                  diag_kws=dict(shade=True))"
      ],
      "metadata": {
        "colab": {
          "base_uri": "https://localhost:8080/",
          "height": 726
        },
        "id": "Sv0g2s0SiSxi",
        "outputId": "7d70cc9d-5908-4e70-e938-e314b22dfbab"
      },
      "execution_count": 36,
      "outputs": [
        {
          "output_type": "display_data",
          "data": {
            "text/plain": [
              "<Figure size 720x720 with 20 Axes>"
            ],
            "image/png": "[encoded data removed]"
          },
          "metadata": {
            "needs_background": "light"
          }
        }
      ]
    },
    {
      "cell_type": "code",
      "source": [
        "data[data['Age'] < 50].plot.hexbin(x='Age', y='Spending Score (1-100)', gridsize=15)"
      ],
      "metadata": {
        "colab": {
          "base_uri": "https://localhost:8080/",
          "height": 275
        },
        "id": "19uAokH9iaaZ",
        "outputId": "4b6aff78-c64a-424f-d0fe-3552cb39db4b"
      },
      "execution_count": 37,
      "outputs": [
        {
          "output_type": "execute_result",
          "data": {
            "text/plain": [
              "<matplotlib.axes._subplots.AxesSubplot at 0x7f279b987bd0>"
            ]
          },
          "metadata": {},
          "execution_count": 37
        },
        {
          "output_type": "display_data",
          "data": {
            "text/plain": [
              "<Figure size 432x288 with 2 Axes>"
            ],
            "image/png": "[encoded data removed]"
          },
          "metadata": {
            "needs_background": "light"
          }
        }
      ]
    },
    {
      "cell_type": "code",
      "source": [
        "plt.figure(figsize=(15,15))\n",
        "sns.FacetGrid(data, hue='Age', size=5).map(sns.distplot,\"Spending Score (1-100)\").add_legend()"
      ],
      "metadata": {
        "colab": {
          "base_uri": "https://localhost:8080/",
          "height": 849
        },
        "id": "VPb20ZKkikLX",
        "outputId": "bb859c45-a89c-400c-f161-d481fb83e27e"
      },
      "execution_count": 38,
      "outputs": [
        {
          "output_type": "execute_result",
          "data": {
            "text/plain": [
              "<seaborn.axisgrid.FacetGrid at 0x7f279a131510>"
            ]
          },
          "metadata": {},
          "execution_count": 38
        },
        {
          "output_type": "display_data",
          "data": {
            "text/plain": [
              "<Figure size 1080x1080 with 0 Axes>"
            ]
          },
          "metadata": {}
        },
        {
          "output_type": "display_data",
          "data": {
            "text/plain": [
              "<Figure size 408.75x360 with 1 Axes>"
            ],
            "image/png": "[encoded data removed]"
          },
          "metadata": {
            "needs_background": "light"
          }
        }
      ]
    },
    {
      "cell_type": "markdown",
      "source": [
        "# ***Multi-Variate Analysis***"
      ],
      "metadata": {
        "id": "sHmKYeSrjehI"
      }
    },
    {
      "cell_type": "code",
      "source": [
        "data_legendary = data.groupby(['Age']).mean()[['Annual Income (k$)', 'Spending Score (1-100)']]\n",
        "data_legendary"
      ],
      "metadata": {
        "colab": {
          "base_uri": "https://localhost:8080/",
          "height": 1000
        },
        "id": "wiqx_f7mjV9o",
        "outputId": "c61bc341-0a9f-4986-e57a-5785ecbdfe6d"
      },
      "execution_count": 39,
      "outputs": [
        {
          "output_type": "execute_result",
          "data": {
            "text/plain": [
              "     Annual Income (k$)  Spending Score (1-100)\n",
              "Age                                            \n",
              "18            51.250000               60.000000\n",
              "19            57.000000               39.750000\n",
              "20            41.600000               40.200000\n",
              "21            38.800000               66.800000\n",
              "22            31.333333               70.000000\n",
              "23            41.500000               63.333333\n",
              "24            39.250000               71.500000\n",
              "25            57.666667               39.666667\n",
              "26            58.000000               54.500000\n",
              "27            63.166667               60.333333\n",
              "28            85.250000               70.000000\n",
              "29            63.600000               76.600000\n",
              "30            76.142857               80.285714\n",
              "31            48.375000               63.875000\n",
              "32            87.181818               66.000000\n",
              "33            80.333333               54.333333\n",
              "34            79.000000               39.200000\n",
              "35            46.666667               63.888889\n",
              "36            81.000000               52.500000\n",
              "37            65.000000               15.333333\n",
              "38            74.500000               63.166667\n",
              "39            72.666667               84.666667\n",
              "40            61.666667               47.500000\n",
              "41           101.000000               28.000000\n",
              "42            60.000000               18.500000\n",
              "43            65.666667               34.000000\n",
              "44            75.500000               13.500000\n",
              "45            69.333333               37.666667\n",
              "46            59.000000               21.333333\n",
              "47            70.166667               28.500000\n",
              "48            58.200000               41.800000\n",
              "49            51.000000               42.714286\n",
              "50            58.600000               45.800000\n",
              "51            55.500000               46.500000\n",
              "52            55.500000               21.000000\n",
              "53            39.500000               25.000000\n",
              "54            59.750000               35.750000\n",
              "55            57.000000               58.000000\n",
              "56            79.000000               35.000000\n",
              "57            64.500000               28.000000\n",
              "58            54.000000               15.000000\n",
              "59            65.250000               33.000000\n",
              "60            43.333333               36.333333\n",
              "63            56.500000               47.000000\n",
              "64            19.000000                3.000000\n",
              "65            50.500000               43.500000\n",
              "66            63.000000               49.000000\n",
              "67            45.500000               41.500000\n",
              "68            56.666667               48.666667\n",
              "69            44.000000               46.000000\n",
              "70            47.500000               55.500000"
            ],
            "text/html": [
              "\n",
              "  <div id=\"df-967ba2ee-d351-4d82-aac7-c4bb3f8d49d2\">\n",
              "    <div class=\"colab-df-container\">\n",
              "      <div>\n",
              "<style scoped>\n",
              "    .dataframe tbody tr th:only-of-type {\n",
              "        vertical-align: middle;\n",
              "    }\n",
              "\n",
              "    .dataframe tbody tr th {\n",
              "        vertical-align: top;\n",
              "    }\n",
              "\n",
              "    .dataframe thead th {\n",
              "        text-align: right;\n",
              "    }\n",
              "</style>\n",
              "<table border=\"1\" class=\"dataframe\">\n",
              "  <thead>\n",
              "    <tr style=\"text-align: right;\">\n",
              "      <th></th>\n",
              "      <th>Annual Income (k$)</th>\n",
              "      <th>Spending Score (1-100)</th>\n",
              "    </tr>\n",
              "    <tr>\n",
              "      <th>Age</th>\n",
              "      <th></th>\n",
              "      <th></th>\n",
              "    </tr>\n",
              "  </thead>\n",
              "  <tbody>\n",
              "    <tr>\n",
              "      <th>18</th>\n",
              "      <td>51.250000</td>\n",
              "      <td>60.000000</td>\n",
              "    </tr>\n",
              "    <tr>\n",
              "      <th>19</th>\n",
              "      <td>57.000000</td>\n",
              "      <td>39.750000</td>\n",
              "    </tr>\n",
              "    <tr>\n",
              "      <th>20</th>\n",
              "      <td>41.600000</td>\n",
              "      <td>40.200000</td>\n",
              "    </tr>\n",
              "    <tr>\n",
              "      <th>21</th>\n",
              "      <td>38.800000</td>\n",
              "      <td>66.800000</td>\n",
              "    </tr>\n",
              "    <tr>\n",
              "      <th>22</th>\n",
              "      <td>31.333333</td>\n",
              "      <td>70.000000</td>\n",
              "    </tr>\n",
              "    <tr>\n",
              "      <th>23</th>\n",
              "      <td>41.500000</td>\n",
              "      <td>63.333333</td>\n",
              "    </tr>\n",
              "    <tr>\n",
              "      <th>24</th>\n",
              "      <td>39.250000</td>\n",
              "      <td>71.500000</td>\n",
              "    </tr>\n",
              "    <tr>\n",
              "      <th>25</th>\n",
              "      <td>57.666667</td>\n",
              "      <td>39.666667</td>\n",
              "    </tr>\n",
              "    <tr>\n",
              "      <th>26</th>\n",
              "      <td>58.000000</td>\n",
              "      <td>54.500000</td>\n",
              "    </tr>\n",
              "    <tr>\n",
              "      <th>27</th>\n",
              "      <td>63.166667</td>\n",
              "      <td>60.333333</td>\n",
              "    </tr>\n",
              "    <tr>\n",
              "      <th>28</th>\n",
              "      <td>85.250000</td>\n",
              "      <td>70.000000</td>\n",
              "    </tr>\n",
              "    <tr>\n",
              "      <th>29</th>\n",
              "      <td>63.600000</td>\n",
              "      <td>76.600000</td>\n",
              "    </tr>\n",
              "    <tr>\n",
              "      <th>30</th>\n",
              "      <td>76.142857</td>\n",
              "      <td>80.285714</td>\n",
              "    </tr>\n",
              "    <tr>\n",
              "      <th>31</th>\n",
              "      <td>48.375000</td>\n",
              "      <td>63.875000</td>\n",
              "    </tr>\n",
              "    <tr>\n",
              "      <th>32</th>\n",
              "      <td>87.181818</td>\n",
              "      <td>66.000000</td>\n",
              "    </tr>\n",
              "    <tr>\n",
              "      <th>33</th>\n",
              "      <td>80.333333</td>\n",
              "      <td>54.333333</td>\n",
              "    </tr>\n",
              "    <tr>\n",
              "      <th>34</th>\n",
              "      <td>79.000000</td>\n",
              "      <td>39.200000</td>\n",
              "    </tr>\n",
              "    <tr>\n",
              "      <th>35</th>\n",
              "      <td>46.666667</td>\n",
              "      <td>63.888889</td>\n",
              "    </tr>\n",
              "    <tr>\n",
              "      <th>36</th>\n",
              "      <td>81.000000</td>\n",
              "      <td>52.500000</td>\n",
              "    </tr>\n",
              "    <tr>\n",
              "      <th>37</th>\n",
              "      <td>65.000000</td>\n",
              "      <td>15.333333</td>\n",
              "    </tr>\n",
              "    <tr>\n",
              "      <th>38</th>\n",
              "      <td>74.500000</td>\n",
              "      <td>63.166667</td>\n",
              "    </tr>\n",
              "    <tr>\n",
              "      <th>39</th>\n",
              "      <td>72.666667</td>\n",
              "      <td>84.666667</td>\n",
              "    </tr>\n",
              "    <tr>\n",
              "      <th>40</th>\n",
              "      <td>61.666667</td>\n",
              "      <td>47.500000</td>\n",
              "    </tr>\n",
              "    <tr>\n",
              "      <th>41</th>\n",
              "      <td>101.000000</td>\n",
              "      <td>28.000000</td>\n",
              "    </tr>\n",
              "    <tr>\n",
              "      <th>42</th>\n",
              "      <td>60.000000</td>\n",
              "      <td>18.500000</td>\n",
              "    </tr>\n",
              "    <tr>\n",
              "      <th>43</th>\n",
              "      <td>65.666667</td>\n",
              "      <td>34.000000</td>\n",
              "    </tr>\n",
              "    <tr>\n",
              "      <th>44</th>\n",
              "      <td>75.500000</td>\n",
              "      <td>13.500000</td>\n",
              "    </tr>\n",
              "    <tr>\n",
              "      <th>45</th>\n",
              "      <td>69.333333</td>\n",
              "      <td>37.666667</td>\n",
              "    </tr>\n",
              "    <tr>\n",
              "      <th>46</th>\n",
              "      <td>59.000000</td>\n",
              "      <td>21.333333</td>\n",
              "    </tr>\n",
              "    <tr>\n",
              "      <th>47</th>\n",
              "      <td>70.166667</td>\n",
              "      <td>28.500000</td>\n",
              "    </tr>\n",
              "    <tr>\n",
              "      <th>48</th>\n",
              "      <td>58.200000</td>\n",
              "      <td>41.800000</td>\n",
              "    </tr>\n",
              "    <tr>\n",
              "      <th>49</th>\n",
              "      <td>51.000000</td>\n",
              "      <td>42.714286</td>\n",
              "    </tr>\n",
              "    <tr>\n",
              "      <th>50</th>\n",
              "      <td>58.600000</td>\n",
              "      <td>45.800000</td>\n",
              "    </tr>\n",
              "    <tr>\n",
              "      <th>51</th>\n",
              "      <td>55.500000</td>\n",
              "      <td>46.500000</td>\n",
              "    </tr>\n",
              "    <tr>\n",
              "      <th>52</th>\n",
              "      <td>55.500000</td>\n",
              "      <td>21.000000</td>\n",
              "    </tr>\n",
              "    <tr>\n",
              "      <th>53</th>\n",
              "      <td>39.500000</td>\n",
              "      <td>25.000000</td>\n",
              "    </tr>\n",
              "    <tr>\n",
              "      <th>54</th>\n",
              "      <td>59.750000</td>\n",
              "      <td>35.750000</td>\n",
              "    </tr>\n",
              "    <tr>\n",
              "      <th>55</th>\n",
              "      <td>57.000000</td>\n",
              "      <td>58.000000</td>\n",
              "    </tr>\n",
              "    <tr>\n",
              "      <th>56</th>\n",
              "      <td>79.000000</td>\n",
              "      <td>35.000000</td>\n",
              "    </tr>\n",
              "    <tr>\n",
              "      <th>57</th>\n",
              "      <td>64.500000</td>\n",
              "      <td>28.000000</td>\n",
              "    </tr>\n",
              "    <tr>\n",
              "      <th>58</th>\n",
              "      <td>54.000000</td>\n",
              "      <td>15.000000</td>\n",
              "    </tr>\n",
              "    <tr>\n",
              "      <th>59</th>\n",
              "      <td>65.250000</td>\n",
              "      <td>33.000000</td>\n",
              "    </tr>\n",
              "    <tr>\n",
              "      <th>60</th>\n",
              "      <td>43.333333</td>\n",
              "      <td>36.333333</td>\n",
              "    </tr>\n",
              "    <tr>\n",
              "      <th>63</th>\n",
              "      <td>56.500000</td>\n",
              "      <td>47.000000</td>\n",
              "    </tr>\n",
              "    <tr>\n",
              "      <th>64</th>\n",
              "      <td>19.000000</td>\n",
              "      <td>3.000000</td>\n",
              "    </tr>\n",
              "    <tr>\n",
              "      <th>65</th>\n",
              "      <td>50.500000</td>\n",
              "      <td>43.500000</td>\n",
              "    </tr>\n",
              "    <tr>\n",
              "      <th>66</th>\n",
              "      <td>63.000000</td>\n",
              "      <td>49.000000</td>\n",
              "    </tr>\n",
              "    <tr>\n",
              "      <th>67</th>\n",
              "      <td>45.500000</td>\n",
              "      <td>41.500000</td>\n",
              "    </tr>\n",
              "    <tr>\n",
              "      <th>68</th>\n",
              "      <td>56.666667</td>\n",
              "      <td>48.666667</td>\n",
              "    </tr>\n",
              "    <tr>\n",
              "      <th>69</th>\n",
              "      <td>44.000000</td>\n",
              "      <td>46.000000</td>\n",
              "    </tr>\n",
              "    <tr>\n",
              "      <th>70</th>\n",
              "      <td>47.500000</td>\n",
              "      <td>55.500000</td>\n",
              "    </tr>\n",
              "  </tbody>\n",
              "</table>\n",
              "</div>\n",
              "      <button class=\"colab-df-convert\" onclick=\"convertToInteractive('df-967ba2ee-d351-4d82-aac7-c4bb3f8d49d2')\"\n",
              "              title=\"Convert this dataframe to an interactive table.\"\n",
              "              style=\"display:none;\">\n",
              "        \n",
              "  <svg xmlns=\"http://www.w3.org/2000/svg\" height=\"24px\"viewBox=\"0 0 24 24\"\n",
              "       width=\"24px\">\n",
              "    <path d=\"M0 0h24v24H0V0z\" fill=\"none\"/>\n",
              "    <path d=\"M18.56 5.44l.94 2.06.94-2.06 2.06-.94-2.06-.94-.94-2.06-.94 2.06-2.06.94zm-11 1L8.5 8.5l.94-2.06 2.06-.94-2.06-.94L8.5 2.5l-.94 2.06-2.06.94zm10 10l.94 2.06.94-2.06 2.06-.94-2.06-.94-.94-2.06-.94 2.06-2.06.94z\"/><path d=\"M17.41 7.96l-1.37-1.37c-.4-.4-.92-.59-1.43-.59-.52 0-1.04.2-1.43.59L10.3 9.45l-7.72 7.72c-.78.78-.78 2.05 0 2.83L4 21.41c.39.39.9.59 1.41.59.51 0 1.02-.2 1.41-.59l7.78-7.78 2.81-2.81c.8-.78.8-2.07 0-2.86zM5.41 20L4 18.59l7.72-7.72 1.47 1.35L5.41 20z\"/>\n",
              "  </svg>\n",
              "      </button>\n",
              "      \n",
              "  <style>\n",
              "    .colab-df-container {\n",
              "      display:flex;\n",
              "      flex-wrap:wrap;\n",
              "      gap: 12px;\n",
              "    }\n",
              "\n",
              "    .colab-df-convert {\n",
              "      background-color: #E8F0FE;\n",
              "      border: none;\n",
              "      border-radius: 50%;\n",
              "      cursor: pointer;\n",
              "      display: none;\n",
              "      fill: #1967D2;\n",
              "      height: 32px;\n",
              "      padding: 0 0 0 0;\n",
              "      width: 32px;\n",
              "    }\n",
              "\n",
              "    .colab-df-convert:hover {\n",
              "      background-color: #E2EBFA;\n",
              "      box-shadow: 0px 1px 2px rgba(60, 64, 67, 0.3), 0px 1px 3px 1px rgba(60, 64, 67, 0.15);\n",
              "      fill: #174EA6;\n",
              "    }\n",
              "\n",
              "    [theme=dark] .colab-df-convert {\n",
              "      background-color: #3B4455;\n",
              "      fill: #D2E3FC;\n",
              "    }\n",
              "\n",
              "    [theme=dark] .colab-df-convert:hover {\n",
              "      background-color: #434B5C;\n",
              "      box-shadow: 0px 1px 3px 1px rgba(0, 0, 0, 0.15);\n",
              "      filter: drop-shadow(0px 1px 2px rgba(0, 0, 0, 0.3));\n",
              "      fill: #FFFFFF;\n",
              "    }\n",
              "  </style>\n",
              "\n",
              "      <script>\n",
              "        const buttonEl =\n",
              "          document.querySelector('#df-967ba2ee-d351-4d82-aac7-c4bb3f8d49d2 button.colab-df-convert');\n",
              "        buttonEl.style.display =\n",
              "          google.colab.kernel.accessAllowed ? 'block' : 'none';\n",
              "\n",
              "        async function convertToInteractive(key) {\n",
              "          const element = document.querySelector('#df-967ba2ee-d351-4d82-aac7-c4bb3f8d49d2');\n",
              "          const dataTable =\n",
              "            await google.colab.kernel.invokeFunction('convertToInteractive',\n",
              "                                                     [key], {});\n",
              "          if (!dataTable) return;\n",
              "\n",
              "          const docLinkHtml = 'Like what you see? Visit the ' +\n",
              "            '<a target=\"_blank\" href=https://colab.research.google.com/notebooks/data_table.ipynb>data table notebook</a>'\n",
              "            + ' to learn more about interactive tables.';\n",
              "          element.innerHTML = '';\n",
              "          dataTable['output_type'] = 'display_data';\n",
              "          await google.colab.output.renderOutput(dataTable, element);\n",
              "          const docLink = document.createElement('div');\n",
              "          docLink.innerHTML = docLinkHtml;\n",
              "          element.appendChild(docLink);\n",
              "        }\n",
              "      </script>\n",
              "    </div>\n",
              "  </div>\n",
              "  "
            ]
          },
          "metadata": {},
          "execution_count": 39
        }
      ]
    },
    {
      "cell_type": "code",
      "source": [
        "plt.figure(figsize=(8,5))\n",
        "sns.heatmap(data.corr(),  annot=True)"
      ],
      "metadata": {
        "colab": {
          "base_uri": "https://localhost:8080/",
          "height": 448
        },
        "id": "ye3sXF84me4s",
        "outputId": "3cc75418-a7f7-4767-9d66-18f39b6321f5"
      },
      "execution_count": 40,
      "outputs": [
        {
          "output_type": "execute_result",
          "data": {
            "text/plain": [
              "<matplotlib.axes._subplots.AxesSubplot at 0x7f279c540b50>"
            ]
          },
          "metadata": {},
          "execution_count": 40
        },
        {
          "output_type": "display_data",
          "data": {
            "text/plain": [
              "<Figure size 576x360 with 2 Axes>"
            ],
            "image/png": "[encoded data removed]"
          },
          "metadata": {
            "needs_background": "light"
          }
        }
      ]
    },
    {
      "cell_type": "markdown",
      "source": [
        "# ***4. Perform descriptive statistics on the dataset.***"
      ],
      "metadata": {
        "id": "IptDm9AmmljW"
      }
    },
    {
      "cell_type": "code",
      "source": [
        "data.info()"
      ],
      "metadata": {
        "colab": {
          "base_uri": "https://localhost:8080/"
        },
        "id": "G9YHAY0Zmn3D",
        "outputId": "351b0308-25e7-4196-fc1e-e423d9f0e8d9"
      },
      "execution_count": 41,
      "outputs": [
        {
          "output_type": "stream",
          "name": "stdout",
          "text": [
            "<class 'pandas.core.frame.DataFrame'>\n",
            "RangeIndex: 200 entries, 0 to 199\n",
            "Data columns (total 5 columns):\n",
            " #   Column                  Non-Null Count  Dtype \n",
            "---  ------                  --------------  ----- \n",
            " 0   CustomerID              200 non-null    int64 \n",
            " 1   Gender                  200 non-null    object\n",
            " 2   Age                     200 non-null    int64 \n",
            " 3   Annual Income (k$)      200 non-null    int64 \n",
            " 4   Spending Score (1-100)  200 non-null    int64 \n",
            "dtypes: int64(4), object(1)\n",
            "memory usage: 7.9+ KB\n"
          ]
        }
      ]
    },
    {
      "cell_type": "code",
      "source": [
        "data.describe()"
      ],
      "metadata": {
        "colab": {
          "base_uri": "https://localhost:8080/",
          "height": 300
        },
        "id": "DjDLA3-pmzG3",
        "outputId": "e120d431-5c65-4b5d-ab2b-8bd654a89bbe"
      },
      "execution_count": 42,
      "outputs": [
        {
          "output_type": "execute_result",
          "data": {
            "text/plain": [
              "       CustomerID         Age  Annual Income (k$)  Spending Score (1-100)\n",
              "count  200.000000  200.000000          200.000000              200.000000\n",
              "mean   100.500000   38.850000           60.560000               50.200000\n",
              "std     57.879185   13.969007           26.264721               25.823522\n",
              "min      1.000000   18.000000           15.000000                1.000000\n",
              "25%     50.750000   28.750000           41.500000               34.750000\n",
              "50%    100.500000   36.000000           61.500000               50.000000\n",
              "75%    150.250000   49.000000           78.000000               73.000000\n",
              "max    200.000000   70.000000          137.000000               99.000000"
            ],
            "text/html": [
              "\n",
              "  <div id=\"df-6a8d68e6-d104-467b-b8d8-dbadf61e52ba\">\n",
              "    <div class=\"colab-df-container\">\n",
              "      <div>\n",
              "<style scoped>\n",
              "    .dataframe tbody tr th:only-of-type {\n",
              "        vertical-align: middle;\n",
              "    }\n",
              "\n",
              "    .dataframe tbody tr th {\n",
              "        vertical-align: top;\n",
              "    }\n",
              "\n",
              "    .dataframe thead th {\n",
              "        text-align: right;\n",
              "    }\n",
              "</style>\n",
              "<table border=\"1\" class=\"dataframe\">\n",
              "  <thead>\n",
              "    <tr style=\"text-align: right;\">\n",
              "      <th></th>\n",
              "      <th>CustomerID</th>\n",
              "      <th>Age</th>\n",
              "      <th>Annual Income (k$)</th>\n",
              "      <th>Spending Score (1-100)</th>\n",
              "    </tr>\n",
              "  </thead>\n",
              "  <tbody>\n",
              "    <tr>\n",
              "      <th>count</th>\n",
              "      <td>200.000000</td>\n",
              "      <td>200.000000</td>\n",
              "      <td>200.000000</td>\n",
              "      <td>200.000000</td>\n",
              "    </tr>\n",
              "    <tr>\n",
              "      <th>mean</th>\n",
              "      <td>100.500000</td>\n",
              "      <td>38.850000</td>\n",
              "      <td>60.560000</td>\n",
              "      <td>50.200000</td>\n",
              "    </tr>\n",
              "    <tr>\n",
              "      <th>std</th>\n",
              "      <td>57.879185</td>\n",
              "      <td>13.969007</td>\n",
              "      <td>26.264721</td>\n",
              "      <td>25.823522</td>\n",
              "    </tr>\n",
              "    <tr>\n",
              "      <th>min</th>\n",
              "      <td>1.000000</td>\n",
              "      <td>18.000000</td>\n",
              "      <td>15.000000</td>\n",
              "      <td>1.000000</td>\n",
              "    </tr>\n",
              "    <tr>\n",
              "      <th>25%</th>\n",
              "      <td>50.750000</td>\n",
              "      <td>28.750000</td>\n",
              "      <td>41.500000</td>\n",
              "      <td>34.750000</td>\n",
              "    </tr>\n",
              "    <tr>\n",
              "      <th>50%</th>\n",
              "      <td>100.500000</td>\n",
              "      <td>36.000000</td>\n",
              "      <td>61.500000</td>\n",
              "      <td>50.000000</td>\n",
              "    </tr>\n",
              "    <tr>\n",
              "      <th>75%</th>\n",
              "      <td>150.250000</td>\n",
              "      <td>49.000000</td>\n",
              "      <td>78.000000</td>\n",
              "      <td>73.000000</td>\n",
              "    </tr>\n",
              "    <tr>\n",
              "      <th>max</th>\n",
              "      <td>200.000000</td>\n",
              "      <td>70.000000</td>\n",
              "      <td>137.000000</td>\n",
              "      <td>99.000000</td>\n",
              "    </tr>\n",
              "  </tbody>\n",
              "</table>\n",
              "</div>\n",
              "      <button class=\"colab-df-convert\" onclick=\"convertToInteractive('df-6a8d68e6-d104-467b-b8d8-dbadf61e52ba')\"\n",
              "              title=\"Convert this dataframe to an interactive table.\"\n",
              "              style=\"display:none;\">\n",
              "        \n",
              "  <svg xmlns=\"http://www.w3.org/2000/svg\" height=\"24px\"viewBox=\"0 0 24 24\"\n",
              "       width=\"24px\">\n",
              "    <path d=\"M0 0h24v24H0V0z\" fill=\"none\"/>\n",
              "    <path d=\"M18.56 5.44l.94 2.06.94-2.06 2.06-.94-2.06-.94-.94-2.06-.94 2.06-2.06.94zm-11 1L8.5 8.5l.94-2.06 2.06-.94-2.06-.94L8.5 2.5l-.94 2.06-2.06.94zm10 10l.94 2.06.94-2.06 2.06-.94-2.06-.94-.94-2.06-.94 2.06-2.06.94z\"/><path d=\"M17.41 7.96l-1.37-1.37c-.4-.4-.92-.59-1.43-.59-.52 0-1.04.2-1.43.59L10.3 9.45l-7.72 7.72c-.78.78-.78 2.05 0 2.83L4 21.41c.39.39.9.59 1.41.59.51 0 1.02-.2 1.41-.59l7.78-7.78 2.81-2.81c.8-.78.8-2.07 0-2.86zM5.41 20L4 18.59l7.72-7.72 1.47 1.35L5.41 20z\"/>\n",
              "  </svg>\n",
              "      </button>\n",
              "      \n",
              "  <style>\n",
              "    .colab-df-container {\n",
              "      display:flex;\n",
              "      flex-wrap:wrap;\n",
              "      gap: 12px;\n",
              "    }\n",
              "\n",
              "    .colab-df-convert {\n",
              "      background-color: #E8F0FE;\n",
              "      border: none;\n",
              "      border-radius: 50%;\n",
              "      cursor: pointer;\n",
              "      display: none;\n",
              "      fill: #1967D2;\n",
              "      height: 32px;\n",
              "      padding: 0 0 0 0;\n",
              "      width: 32px;\n",
              "    }\n",
              "\n",
              "    .colab-df-convert:hover {\n",
              "      background-color: #E2EBFA;\n",
              "      box-shadow: 0px 1px 2px rgba(60, 64, 67, 0.3), 0px 1px 3px 1px rgba(60, 64, 67, 0.15);\n",
              "      fill: #174EA6;\n",
              "    }\n",
              "\n",
              "    [theme=dark] .colab-df-convert {\n",
              "      background-color: #3B4455;\n",
              "      fill: #D2E3FC;\n",
              "    }\n",
              "\n",
              "    [theme=dark] .colab-df-convert:hover {\n",
              "      background-color: #434B5C;\n",
              "      box-shadow: 0px 1px 3px 1px rgba(0, 0, 0, 0.15);\n",
              "      filter: drop-shadow(0px 1px 2px rgba(0, 0, 0, 0.3));\n",
              "      fill: #FFFFFF;\n",
              "    }\n",
              "  </style>\n",
              "\n",
              "      <script>\n",
              "        const buttonEl =\n",
              "          document.querySelector('#df-6a8d68e6-d104-467b-b8d8-dbadf61e52ba button.colab-df-convert');\n",
              "        buttonEl.style.display =\n",
              "          google.colab.kernel.accessAllowed ? 'block' : 'none';\n",
              "\n",
              "        async function convertToInteractive(key) {\n",
              "          const element = document.querySelector('#df-6a8d68e6-d104-467b-b8d8-dbadf61e52ba');\n",
              "          const dataTable =\n",
              "            await google.colab.kernel.invokeFunction('convertToInteractive',\n",
              "                                                     [key], {});\n",
              "          if (!dataTable) return;\n",
              "\n",
              "          const docLinkHtml = 'Like what you see? Visit the ' +\n",
              "            '<a target=\"_blank\" href=https://colab.research.google.com/notebooks/data_table.ipynb>data table notebook</a>'\n",
              "            + ' to learn more about interactive tables.';\n",
              "          element.innerHTML = '';\n",
              "          dataTable['output_type'] = 'display_data';\n",
              "          await google.colab.output.renderOutput(dataTable, element);\n",
              "          const docLink = document.createElement('div');\n",
              "          docLink.innerHTML = docLinkHtml;\n",
              "          element.appendChild(docLink);\n",
              "        }\n",
              "      </script>\n",
              "    </div>\n",
              "  </div>\n",
              "  "
            ]
          },
          "metadata": {},
          "execution_count": 42
        }
      ]
    },
    {
      "cell_type": "code",
      "source": [
        "data[\"Annual Income (k$)\"].mean()"
      ],
      "metadata": {
        "colab": {
          "base_uri": "https://localhost:8080/"
        },
        "id": "q4uuhwIem4ph",
        "outputId": "ed331703-8a70-4813-97e1-c86b598883f4"
      },
      "execution_count": 43,
      "outputs": [
        {
          "output_type": "execute_result",
          "data": {
            "text/plain": [
              "60.56"
            ]
          },
          "metadata": {},
          "execution_count": 43
        }
      ]
    },
    {
      "cell_type": "code",
      "source": [
        "data[\"Annual Income (k$)\"].median()"
      ],
      "metadata": {
        "colab": {
          "base_uri": "https://localhost:8080/"
        },
        "id": "hMLQoCpunC6l",
        "outputId": "451a1ec9-c946-4d7b-bf9f-ee26339afaab"
      },
      "execution_count": 44,
      "outputs": [
        {
          "output_type": "execute_result",
          "data": {
            "text/plain": [
              "61.5"
            ]
          },
          "metadata": {},
          "execution_count": 44
        }
      ]
    },
    {
      "cell_type": "code",
      "source": [
        "mth_exp_tmp = pd.crosstab(index=data[\"Spending Score (1-100)\"], columns=\"count\")\n",
        "mth_exp_tmp.reset_index(inplace=True)\n",
        "mth_exp_tmp[mth_exp_tmp['count'] == data[\"Spending Score (1-100)\"].value_counts().max()]"
      ],
      "metadata": {
        "colab": {
          "base_uri": "https://localhost:8080/",
          "height": 81
        },
        "id": "gpWO_t4rnI52",
        "outputId": "d7a0bab3-f283-4d55-ce46-857dc0060fc6"
      },
      "execution_count": 45,
      "outputs": [
        {
          "output_type": "execute_result",
          "data": {
            "text/plain": [
              "col_0  Spending Score (1-100)  count\n",
              "33                         42      8"
            ],
            "text/html": [
              "\n",
              "  <div id=\"df-acd6ce96-9ae7-48b0-89c7-f93a10ae427e\">\n",
              "    <div class=\"colab-df-container\">\n",
              "      <div>\n",
              "<style scoped>\n",
              "    .dataframe tbody tr th:only-of-type {\n",
              "        vertical-align: middle;\n",
              "    }\n",
              "\n",
              "    .dataframe tbody tr th {\n",
              "        vertical-align: top;\n",
              "    }\n",
              "\n",
              "    .dataframe thead th {\n",
              "        text-align: right;\n",
              "    }\n",
              "</style>\n",
              "<table border=\"1\" class=\"dataframe\">\n",
              "  <thead>\n",
              "    <tr style=\"text-align: right;\">\n",
              "      <th>col_0</th>\n",
              "      <th>Spending Score (1-100)</th>\n",
              "      <th>count</th>\n",
              "    </tr>\n",
              "  </thead>\n",
              "  <tbody>\n",
              "    <tr>\n",
              "      <th>33</th>\n",
              "      <td>42</td>\n",
              "      <td>8</td>\n",
              "    </tr>\n",
              "  </tbody>\n",
              "</table>\n",
              "</div>\n",
              "      <button class=\"colab-df-convert\" onclick=\"convertToInteractive('df-acd6ce96-9ae7-48b0-89c7-f93a10ae427e')\"\n",
              "              title=\"Convert this dataframe to an interactive table.\"\n",
              "              style=\"display:none;\">\n",
              "        \n",
              "  <svg xmlns=\"http://www.w3.org/2000/svg\" height=\"24px\"viewBox=\"0 0 24 24\"\n",
              "       width=\"24px\">\n",
              "    <path d=\"M0 0h24v24H0V0z\" fill=\"none\"/>\n",
              "    <path d=\"M18.56 5.44l.94 2.06.94-2.06 2.06-.94-2.06-.94-.94-2.06-.94 2.06-2.06.94zm-11 1L8.5 8.5l.94-2.06 2.06-.94-2.06-.94L8.5 2.5l-.94 2.06-2.06.94zm10 10l.94 2.06.94-2.06 2.06-.94-2.06-.94-.94-2.06-.94 2.06-2.06.94z\"/><path d=\"M17.41 7.96l-1.37-1.37c-.4-.4-.92-.59-1.43-.59-.52 0-1.04.2-1.43.59L10.3 9.45l-7.72 7.72c-.78.78-.78 2.05 0 2.83L4 21.41c.39.39.9.59 1.41.59.51 0 1.02-.2 1.41-.59l7.78-7.78 2.81-2.81c.8-.78.8-2.07 0-2.86zM5.41 20L4 18.59l7.72-7.72 1.47 1.35L5.41 20z\"/>\n",
              "  </svg>\n",
              "      </button>\n",
              "      \n",
              "  <style>\n",
              "    .colab-df-container {\n",
              "      display:flex;\n",
              "      flex-wrap:wrap;\n",
              "      gap: 12px;\n",
              "    }\n",
              "\n",
              "    .colab-df-convert {\n",
              "      background-color: #E8F0FE;\n",
              "      border: none;\n",
              "      border-radius: 50%;\n",
              "      cursor: pointer;\n",
              "      display: none;\n",
              "      fill: #1967D2;\n",
              "      height: 32px;\n",
              "      padding: 0 0 0 0;\n",
              "      width: 32px;\n",
              "    }\n",
              "\n",
              "    .colab-df-convert:hover {\n",
              "      background-color: #E2EBFA;\n",
              "      box-shadow: 0px 1px 2px rgba(60, 64, 67, 0.3), 0px 1px 3px 1px rgba(60, 64, 67, 0.15);\n",
              "      fill: #174EA6;\n",
              "    }\n",
              "\n",
              "    [theme=dark] .colab-df-convert {\n",
              "      background-color: #3B4455;\n",
              "      fill: #D2E3FC;\n",
              "    }\n",
              "\n",
              "    [theme=dark] .colab-df-convert:hover {\n",
              "      background-color: #434B5C;\n",
              "      box-shadow: 0px 1px 3px 1px rgba(0, 0, 0, 0.15);\n",
              "      filter: drop-shadow(0px 1px 2px rgba(0, 0, 0, 0.3));\n",
              "      fill: #FFFFFF;\n",
              "    }\n",
              "  </style>\n",
              "\n",
              "      <script>\n",
              "        const buttonEl =\n",
              "          document.querySelector('#df-acd6ce96-9ae7-48b0-89c7-f93a10ae427e button.colab-df-convert');\n",
              "        buttonEl.style.display =\n",
              "          google.colab.kernel.accessAllowed ? 'block' : 'none';\n",
              "\n",
              "        async function convertToInteractive(key) {\n",
              "          const element = document.querySelector('#df-acd6ce96-9ae7-48b0-89c7-f93a10ae427e');\n",
              "          const dataTable =\n",
              "            await google.colab.kernel.invokeFunction('convertToInteractive',\n",
              "                                                     [key], {});\n",
              "          if (!dataTable) return;\n",
              "\n",
              "          const docLinkHtml = 'Like what you see? Visit the ' +\n",
              "            '<a target=\"_blank\" href=https://colab.research.google.com/notebooks/data_table.ipynb>data table notebook</a>'\n",
              "            + ' to learn more about interactive tables.';\n",
              "          element.innerHTML = '';\n",
              "          dataTable['output_type'] = 'display_data';\n",
              "          await google.colab.output.renderOutput(dataTable, element);\n",
              "          const docLink = document.createElement('div');\n",
              "          docLink.innerHTML = docLinkHtml;\n",
              "          element.appendChild(docLink);\n",
              "        }\n",
              "      </script>\n",
              "    </div>\n",
              "  </div>\n",
              "  "
            ]
          },
          "metadata": {},
          "execution_count": 45
        }
      ]
    },
    {
      "cell_type": "markdown",
      "source": [
        "# ***5. Check for Missing values and deal with them.***"
      ],
      "metadata": {
        "id": "mMYZYGd5ngGy"
      }
    },
    {
      "cell_type": "code",
      "source": [
        "data.isna().sum()"
      ],
      "metadata": {
        "colab": {
          "base_uri": "https://localhost:8080/"
        },
        "id": "gejJKxdNnikI",
        "outputId": "8b4bcda3-3f55-405b-ce1a-82f0c15513b4"
      },
      "execution_count": 46,
      "outputs": [
        {
          "output_type": "execute_result",
          "data": {
            "text/plain": [
              "CustomerID                0\n",
              "Gender                    0\n",
              "Age                       0\n",
              "Annual Income (k$)        0\n",
              "Spending Score (1-100)    0\n",
              "dtype: int64"
            ]
          },
          "metadata": {},
          "execution_count": 46
        }
      ]
    },
    {
      "cell_type": "markdown",
      "source": [
        "***Since there is no missing vlues no need to fill any values.***"
      ],
      "metadata": {
        "id": "lc0JPrhfsiKN"
      }
    },
    {
      "cell_type": "markdown",
      "source": [
        "# ***6. Find the outliers and replace them outliers***"
      ],
      "metadata": {
        "id": "cNddeakLspwg"
      }
    },
    {
      "cell_type": "code",
      "source": [
        "sns.boxplot(data[\"Annual Income (k$)\"])"
      ],
      "metadata": {
        "colab": {
          "base_uri": "https://localhost:8080/",
          "height": 296
        },
        "id": "xVuktA48skLV",
        "outputId": "121e208d-db5a-4cd9-c832-51eb5e25b495"
      },
      "execution_count": 47,
      "outputs": [
        {
          "output_type": "execute_result",
          "data": {
            "text/plain": [
              "<matplotlib.axes._subplots.AxesSubplot at 0x7f279be18850>"
            ]
          },
          "metadata": {},
          "execution_count": 47
        },
        {
          "output_type": "display_data",
          "data": {
            "text/plain": [
              "<Figure size 432x288 with 1 Axes>"
            ],
            "image/png": "[encoded data removed]"
          },
          "metadata": {
            "needs_background": "light"
          }
        }
      ]
    },
    {
      "cell_type": "code",
      "source": [
        "Q1 = np.percentile(data['Annual Income (k$)'], 25,interpolation = 'midpoint')\n",
        "                    \n",
        "Q3 = np.percentile(data['Annual Income (k$)'], 75,interpolation = 'midpoint')\n",
        "\n",
        "IQR = Q3 - Q1\n",
        "\n",
        "print(\"Old Shape: \", data.shape)\n",
        "\n",
        "# Upper bound\n",
        "upper = np.where(data['Annual Income (k$)'] >= (Q3+1.5*IQR))\n",
        "\n",
        "# Lower bound\n",
        "lower = np.where(data['Annual Income (k$)'] <= (Q1-1.5*IQR))"
      ],
      "metadata": {
        "colab": {
          "base_uri": "https://localhost:8080/"
        },
        "id": "Y00yD500tRAp",
        "outputId": "a36305e8-6063-407f-c487-8769580a1a3f"
      },
      "execution_count": 48,
      "outputs": [
        {
          "output_type": "stream",
          "name": "stdout",
          "text": [
            "Old Shape:  (200, 5)\n"
          ]
        }
      ]
    },
    {
      "cell_type": "code",
      "source": [
        "''' Removing the Outliers '''\n",
        "data.drop(upper[0], inplace = True)\n",
        "data.drop(lower[0], inplace = True)\n",
        " \n",
        "print(\"New Shape: \", data.shape)"
      ],
      "metadata": {
        "colab": {
          "base_uri": "https://localhost:8080/"
        },
        "id": "HA7tt2ZHt0a2",
        "outputId": "61c8d891-79e5-4397-fd18-f1943abfa2f7"
      },
      "execution_count": 49,
      "outputs": [
        {
          "output_type": "stream",
          "name": "stdout",
          "text": [
            "New Shape:  (198, 5)\n"
          ]
        }
      ]
    },
    {
      "cell_type": "code",
      "source": [
        "sns.boxplot(data[\"Annual Income (k$)\"])"
      ],
      "metadata": {
        "colab": {
          "base_uri": "https://localhost:8080/",
          "height": 296
        },
        "id": "2a4BzktduSTB",
        "outputId": "d7d2e754-7ee9-4d20-af76-c606edae8eb4"
      },
      "execution_count": 50,
      "outputs": [
        {
          "output_type": "execute_result",
          "data": {
            "text/plain": [
              "<matplotlib.axes._subplots.AxesSubplot at 0x7f279a16b350>"
            ]
          },
          "metadata": {},
          "execution_count": 50
        },
        {
          "output_type": "display_data",
          "data": {
            "text/plain": [
              "<Figure size 432x288 with 1 Axes>"
            ],
            "image/png": "[encoded data removed]"
          },
          "metadata": {
            "needs_background": "light"
          }
        }
      ]
    },
    {
      "cell_type": "markdown",
      "source": [
        "# ***7. Check for Categorical columns and perform encoding.***"
      ],
      "metadata": {
        "id": "tbmdzizAv7XP"
      }
    },
    {
      "cell_type": "code",
      "source": [
        "data.info()"
      ],
      "metadata": {
        "colab": {
          "base_uri": "https://localhost:8080/"
        },
        "id": "UOsg65bgv9s5",
        "outputId": "27c27ce2-318d-439c-98b0-4973e53a7503"
      },
      "execution_count": 51,
      "outputs": [
        {
          "output_type": "stream",
          "name": "stdout",
          "text": [
            "<class 'pandas.core.frame.DataFrame'>\n",
            "Int64Index: 198 entries, 0 to 197\n",
            "Data columns (total 5 columns):\n",
            " #   Column                  Non-Null Count  Dtype \n",
            "---  ------                  --------------  ----- \n",
            " 0   CustomerID              198 non-null    int64 \n",
            " 1   Gender                  198 non-null    object\n",
            " 2   Age                     198 non-null    int64 \n",
            " 3   Annual Income (k$)      198 non-null    int64 \n",
            " 4   Spending Score (1-100)  198 non-null    int64 \n",
            "dtypes: int64(4), object(1)\n",
            "memory usage: 17.4+ KB\n"
          ]
        }
      ]
    },
    {
      "cell_type": "code",
      "source": [
        "data['Gender'] = data['Gender'].astype('category')\n",
        "data['Gender'] = data['Gender'].cat.codes"
      ],
      "metadata": {
        "id": "rEUu4C2qwDpi"
      },
      "execution_count": 52,
      "outputs": []
    },
    {
      "cell_type": "code",
      "source": [
        "data.head()"
      ],
      "metadata": {
        "colab": {
          "base_uri": "https://localhost:8080/",
          "height": 206
        },
        "id": "J3480k1bwIUp",
        "outputId": "10ed6c1b-49d3-4812-eca2-739bbd2cea24"
      },
      "execution_count": 53,
      "outputs": [
        {
          "output_type": "execute_result",
          "data": {
            "text/plain": [
              "   CustomerID  Gender  Age  Annual Income (k$)  Spending Score (1-100)\n",
              "0           1       1   19                  15                      39\n",
              "1           2       1   21                  15                      81\n",
              "2           3       0   20                  16                       6\n",
              "3           4       0   23                  16                      77\n",
              "4           5       0   31                  17                      40"
            ],
            "text/html": [
              "\n",
              "  <div id=\"df-81a8e42d-fd27-41d1-be5c-fff11af75436\">\n",
              "    <div class=\"colab-df-container\">\n",
              "      <div>\n",
              "<style scoped>\n",
              "    .dataframe tbody tr th:only-of-type {\n",
              "        vertical-align: middle;\n",
              "    }\n",
              "\n",
              "    .dataframe tbody tr th {\n",
              "        vertical-align: top;\n",
              "    }\n",
              "\n",
              "    .dataframe thead th {\n",
              "        text-align: right;\n",
              "    }\n",
              "</style>\n",
              "<table border=\"1\" class=\"dataframe\">\n",
              "  <thead>\n",
              "    <tr style=\"text-align: right;\">\n",
              "      <th></th>\n",
              "      <th>CustomerID</th>\n",
              "      <th>Gender</th>\n",
              "      <th>Age</th>\n",
              "      <th>Annual Income (k$)</th>\n",
              "      <th>Spending Score (1-100)</th>\n",
              "    </tr>\n",
              "  </thead>\n",
              "  <tbody>\n",
              "    <tr>\n",
              "      <th>0</th>\n",
              "      <td>1</td>\n",
              "      <td>1</td>\n",
              "      <td>19</td>\n",
              "      <td>15</td>\n",
              "      <td>39</td>\n",
              "    </tr>\n",
              "    <tr>\n",
              "      <th>1</th>\n",
              "      <td>2</td>\n",
              "      <td>1</td>\n",
              "      <td>21</td>\n",
              "      <td>15</td>\n",
              "      <td>81</td>\n",
              "    </tr>\n",
              "    <tr>\n",
              "      <th>2</th>\n",
              "      <td>3</td>\n",
              "      <td>0</td>\n",
              "      <td>20</td>\n",
              "      <td>16</td>\n",
              "      <td>6</td>\n",
              "    </tr>\n",
              "    <tr>\n",
              "      <th>3</th>\n",
              "      <td>4</td>\n",
              "      <td>0</td>\n",
              "      <td>23</td>\n",
              "      <td>16</td>\n",
              "      <td>77</td>\n",
              "    </tr>\n",
              "    <tr>\n",
              "      <th>4</th>\n",
              "      <td>5</td>\n",
              "      <td>0</td>\n",
              "      <td>31</td>\n",
              "      <td>17</td>\n",
              "      <td>40</td>\n",
              "    </tr>\n",
              "  </tbody>\n",
              "</table>\n",
              "</div>\n",
              "      <button class=\"colab-df-convert\" onclick=\"convertToInteractive('df-81a8e42d-fd27-41d1-be5c-fff11af75436')\"\n",
              "              title=\"Convert this dataframe to an interactive table.\"\n",
              "              style=\"display:none;\">\n",
              "        \n",
              "  <svg xmlns=\"http://www.w3.org/2000/svg\" height=\"24px\"viewBox=\"0 0 24 24\"\n",
              "       width=\"24px\">\n",
              "    <path d=\"M0 0h24v24H0V0z\" fill=\"none\"/>\n",
              "    <path d=\"M18.56 5.44l.94 2.06.94-2.06 2.06-.94-2.06-.94-.94-2.06-.94 2.06-2.06.94zm-11 1L8.5 8.5l.94-2.06 2.06-.94-2.06-.94L8.5 2.5l-.94 2.06-2.06.94zm10 10l.94 2.06.94-2.06 2.06-.94-2.06-.94-.94-2.06-.94 2.06-2.06.94z\"/><path d=\"M17.41 7.96l-1.37-1.37c-.4-.4-.92-.59-1.43-.59-.52 0-1.04.2-1.43.59L10.3 9.45l-7.72 7.72c-.78.78-.78 2.05 0 2.83L4 21.41c.39.39.9.59 1.41.59.51 0 1.02-.2 1.41-.59l7.78-7.78 2.81-2.81c.8-.78.8-2.07 0-2.86zM5.41 20L4 18.59l7.72-7.72 1.47 1.35L5.41 20z\"/>\n",
              "  </svg>\n",
              "      </button>\n",
              "      \n",
              "  <style>\n",
              "    .colab-df-container {\n",
              "      display:flex;\n",
              "      flex-wrap:wrap;\n",
              "      gap: 12px;\n",
              "    }\n",
              "\n",
              "    .colab-df-convert {\n",
              "      background-color: #E8F0FE;\n",
              "      border: none;\n",
              "      border-radius: 50%;\n",
              "      cursor: pointer;\n",
              "      display: none;\n",
              "      fill: #1967D2;\n",
              "      height: 32px;\n",
              "      padding: 0 0 0 0;\n",
              "      width: 32px;\n",
              "    }\n",
              "\n",
              "    .colab-df-convert:hover {\n",
              "      background-color: #E2EBFA;\n",
              "      box-shadow: 0px 1px 2px rgba(60, 64, 67, 0.3), 0px 1px 3px 1px rgba(60, 64, 67, 0.15);\n",
              "      fill: #174EA6;\n",
              "    }\n",
              "\n",
              "    [theme=dark] .colab-df-convert {\n",
              "      background-color: #3B4455;\n",
              "      fill: #D2E3FC;\n",
              "    }\n",
              "\n",
              "    [theme=dark] .colab-df-convert:hover {\n",
              "      background-color: #434B5C;\n",
              "      box-shadow: 0px 1px 3px 1px rgba(0, 0, 0, 0.15);\n",
              "      filter: drop-shadow(0px 1px 2px rgba(0, 0, 0, 0.3));\n",
              "      fill: #FFFFFF;\n",
              "    }\n",
              "  </style>\n",
              "\n",
              "      <script>\n",
              "        const buttonEl =\n",
              "          document.querySelector('#df-81a8e42d-fd27-41d1-be5c-fff11af75436 button.colab-df-convert');\n",
              "        buttonEl.style.display =\n",
              "          google.colab.kernel.accessAllowed ? 'block' : 'none';\n",
              "\n",
              "        async function convertToInteractive(key) {\n",
              "          const element = document.querySelector('#df-81a8e42d-fd27-41d1-be5c-fff11af75436');\n",
              "          const dataTable =\n",
              "            await google.colab.kernel.invokeFunction('convertToInteractive',\n",
              "                                                     [key], {});\n",
              "          if (!dataTable) return;\n",
              "\n",
              "          const docLinkHtml = 'Like what you see? Visit the ' +\n",
              "            '<a target=\"_blank\" href=https://colab.research.google.com/notebooks/data_table.ipynb>data table notebook</a>'\n",
              "            + ' to learn more about interactive tables.';\n",
              "          element.innerHTML = '';\n",
              "          dataTable['output_type'] = 'display_data';\n",
              "          await google.colab.output.renderOutput(dataTable, element);\n",
              "          const docLink = document.createElement('div');\n",
              "          docLink.innerHTML = docLinkHtml;\n",
              "          element.appendChild(docLink);\n",
              "        }\n",
              "      </script>\n",
              "    </div>\n",
              "  </div>\n",
              "  "
            ]
          },
          "metadata": {},
          "execution_count": 53
        }
      ]
    },
    {
      "cell_type": "markdown",
      "source": [
        "# ***8. Scaling the data***"
      ],
      "metadata": {
        "id": "GyRSHa5awQtA"
      }
    },
    {
      "cell_type": "code",
      "source": [
        "from sklearn.preprocessing import scale"
      ],
      "metadata": {
        "id": "aoR1iCu8wS_b"
      },
      "execution_count": 54,
      "outputs": []
    },
    {
      "cell_type": "code",
      "source": [
        "scaler = scale(data)\n",
        "scaler"
      ],
      "metadata": {
        "colab": {
          "base_uri": "https://localhost:8080/"
        },
        "id": "ciO-8nYLyBGv",
        "outputId": "e4cd2cef-cc59-4bcf-d0d8-357fc459f747"
      },
      "execution_count": 55,
      "outputs": [
        {
          "output_type": "execute_result",
          "data": {
            "text/plain": [
              "array([[-1.72332506,  1.1411948 , -1.42541358, -1.77917141, -0.43598941],\n",
              "       [-1.70582937,  1.1411948 , -1.2823665 , -1.77917141,  1.19941337],\n",
              "       [-1.68833368, -0.87627458, -1.35389004, -1.73944701, -1.72094874],\n",
              "       [-1.670838  , -0.87627458, -1.13931942, -1.73944701,  1.04366072],\n",
              "       [-1.65334231, -0.87627458, -0.5671311 , -1.69972262, -0.39705125],\n",
              "       [-1.63584663, -0.87627458, -1.21084296, -1.69972262,  1.00472256],\n",
              "       [-1.61835094, -0.87627458, -0.28103694, -1.65999822, -1.72094874],\n",
              "       [-1.60085525, -0.87627458, -1.13931942, -1.65999822,  1.70560947],\n",
              "       [-1.58335957,  1.1411948 ,  1.79314572, -1.62027383, -1.83776323],\n",
              "       [-1.56586388, -0.87627458, -0.63865464, -1.62027383,  0.84896992],\n",
              "       [-1.5483682 ,  1.1411948 ,  2.00771635, -1.62027383, -1.40944345],\n",
              "       [-1.53087251, -0.87627458, -0.28103694, -1.62027383,  1.90030028],\n",
              "       [-1.51337683, -0.87627458,  1.36400448, -1.58054943, -1.37050529],\n",
              "       [-1.49588114, -0.87627458, -1.06779588, -1.58054943,  1.04366072],\n",
              "       [-1.47838545,  1.1411948 , -0.13798986, -1.58054943, -1.44838161],\n",
              "       [-1.46088977,  1.1411948 , -1.21084296, -1.58054943,  1.12153705],\n",
              "       [-1.44339408, -0.87627458, -0.28103694, -1.54082504, -0.59174206],\n",
              "       [-1.4258984 ,  1.1411948 , -1.35389004, -1.54082504,  0.61534095],\n",
              "       [-1.40840271,  1.1411948 ,  0.93486324, -1.46137625, -0.82537103],\n",
              "       [-1.39090702, -0.87627458, -0.28103694, -1.46137625,  1.86136212],\n",
              "       [-1.37341134,  1.1411948 , -0.28103694, -1.42165185, -0.59174206],\n",
              "       [-1.35591565,  1.1411948 , -0.99627234, -1.42165185,  0.88790808],\n",
              "       [-1.33841997, -0.87627458,  0.505722  , -1.38192745, -1.75988691],\n",
              "       [-1.32092428,  1.1411948 , -0.5671311 , -1.38192745,  0.88790808],\n",
              "       [-1.3034286 , -0.87627458,  1.07791032, -1.26275427, -1.40944345],\n",
              "       [-1.28593291,  1.1411948 , -0.71017818, -1.26275427,  1.23835153],\n",
              "       [-1.26843722, -0.87627458,  0.43419846, -1.26275427, -0.70855655],\n",
              "       [-1.25094154,  1.1411948 , -0.28103694, -1.26275427,  0.42065014],\n",
              "       [-1.23344585, -0.87627458,  0.07658076, -1.22302987, -0.74749471],\n",
              "       [-1.21595017, -0.87627458, -1.13931942, -1.22302987,  1.43304234],\n",
              "       [-1.19845448,  1.1411948 ,  1.50705156, -1.18330548, -1.79882507],\n",
              "       [-1.18095879, -0.87627458, -1.2823665 , -1.18330548,  0.88790808],\n",
              "       [-1.16346311,  1.1411948 ,  1.00638678, -1.06413229, -1.79882507],\n",
              "       [-1.14596742,  1.1411948 , -1.49693712, -1.06413229,  1.62773315],\n",
              "       [-1.12847174, -0.87627458,  0.72029262, -1.06413229, -1.40944345],\n",
              "       [-1.11097605, -0.87627458, -1.2823665 , -1.06413229,  1.19941337],\n",
              "       [-1.09348037, -0.87627458,  0.21962784, -1.0244079 , -1.29262897],\n",
              "       [-1.07598468, -0.87627458, -0.63865464, -1.0244079 ,  0.88790808],\n",
              "       [-1.05848899, -0.87627458, -0.2095134 , -0.90523471, -0.94218551],\n",
              "       [-1.04099331, -0.87627458, -1.35389004, -0.90523471,  0.9657844 ],\n",
              "       [-1.02349762, -0.87627458,  1.86466927, -0.86551031, -0.59174206],\n",
              "       [-1.00600194,  1.1411948 , -1.06779588, -0.86551031,  1.62773315],\n",
              "       [-0.98850625,  1.1411948 ,  0.64876908, -0.82578592, -0.5528039 ],\n",
              "       [-0.97101056, -0.87627458, -0.5671311 , -0.82578592,  0.42065014],\n",
              "       [-0.95351488, -0.87627458,  0.72029262, -0.82578592, -0.86430919],\n",
              "       [-0.93601919, -0.87627458, -1.06779588, -0.82578592,  0.57640278],\n",
              "       [-0.91852351, -0.87627458,  0.79181616, -0.78606152,  0.18702117],\n",
              "       [-0.90102782, -0.87627458, -0.85322526, -0.78606152, -0.12448412],\n",
              "       [-0.88353213, -0.87627458, -0.71017818, -0.78606152, -0.31917493],\n",
              "       [-0.86603645, -0.87627458, -0.5671311 , -0.78606152, -0.31917493],\n",
              "       [-0.84854076, -0.87627458,  0.72029262, -0.70661273,  0.07020669],\n",
              "       [-0.83104508,  1.1411948 , -0.42408402, -0.70661273,  0.38171198],\n",
              "       [-0.81354939, -0.87627458, -0.5671311 , -0.66688834,  0.14808301],\n",
              "       [-0.79605371,  1.1411948 ,  1.43552802, -0.66688834,  0.38171198],\n",
              "       [-0.77855802, -0.87627458,  0.79181616, -0.66688834, -0.20236045],\n",
              "       [-0.76106233,  1.1411948 ,  0.57724554, -0.66688834, -0.35811309],\n",
              "       [-0.74356665, -0.87627458,  0.8633397 , -0.62716394, -0.00766964],\n",
              "       [-0.72607096,  1.1411948 ,  2.15076343, -0.62716394, -0.16342228],\n",
              "       [-0.70857528, -0.87627458, -0.85322526, -0.54771515,  0.03126852],\n",
              "       [-0.69107959,  1.1411948 ,  1.00638678, -0.54771515, -0.16342228],\n",
              "       [-0.6735839 ,  1.1411948 ,  2.22228697, -0.54771515,  0.22595933],\n",
              "       [-0.65608822,  1.1411948 , -1.42541358, -0.54771515,  0.18702117],\n",
              "       [-0.63859253, -0.87627458,  2.00771635, -0.50799075,  0.07020669],\n",
              "       [-0.62109685, -0.87627458,  1.07791032, -0.50799075,  0.34277382],\n",
              "       [-0.60360116,  1.1411948 ,  1.72162218, -0.46826636,  0.03126852],\n",
              "       [-0.58610548,  1.1411948 , -1.49693712, -0.46826636,  0.34277382],\n",
              "       [-0.56860979, -0.87627458,  0.29115138, -0.46826636, -0.00766964],\n",
              "       [-0.5511141 , -0.87627458,  2.07923989, -0.46826636, -0.08554596],\n",
              "       [-0.53361842,  1.1411948 , -1.42541358, -0.46826636,  0.34277382],\n",
              "       [-0.51612273, -0.87627458, -0.49560756, -0.46826636, -0.12448412],\n",
              "       [-0.49862705,  1.1411948 ,  2.22228697, -0.42854196,  0.18702117],\n",
              "       [-0.48113136, -0.87627458,  0.57724554, -0.42854196, -0.31917493],\n",
              "       [-0.46363567, -0.87627458,  1.50705156, -0.38881757, -0.0466078 ],\n",
              "       [-0.44613999, -0.87627458,  1.50705156, -0.38881757,  0.22595933],\n",
              "       [-0.4286443 ,  1.1411948 ,  1.43552802, -0.22991999, -0.12448412],\n",
              "       [-0.41114862,  1.1411948 , -0.9247488 , -0.22991999,  0.14808301],\n",
              "       [-0.39365293, -0.87627458,  0.43419846, -0.22991999,  0.10914485],\n",
              "       [-0.37615725,  1.1411948 ,  0.07658076, -0.22991999, -0.08554596],\n",
              "       [-0.35866156, -0.87627458, -1.13931942, -0.22991999,  0.07020669],\n",
              "       [-0.34116587, -0.87627458,  0.72029262, -0.22991999, -0.31917493],\n",
              "       [-0.32367019,  1.1411948 ,  1.29248094, -0.22991999,  0.03126852],\n",
              "       [-0.3061745 ,  1.1411948 , -0.06646632, -0.22991999,  0.18702117],\n",
              "       [-0.28867882,  1.1411948 ,  2.00771635, -0.22991999, -0.35811309],\n",
              "       [-0.27118313, -0.87627458,  0.505722  , -0.22991999, -0.24129861],\n",
              "       [-0.25368744, -0.87627458, -1.2823665 , -0.22991999,  0.26489749],\n",
              "       [-0.23619176,  1.1411948 ,  0.64876908, -0.22991999, -0.16342228],\n",
              "       [-0.21869607, -0.87627458,  1.14943386, -0.1107468 ,  0.30383565],\n",
              "       [-0.20120039, -0.87627458, -1.21084296, -0.1107468 ,  0.18702117],\n",
              "       [-0.1837047 , -0.87627458, -0.35256048, -0.0710224 ,  0.38171198],\n",
              "       [-0.16620902, -0.87627458,  0.79181616, -0.0710224 , -0.16342228],\n",
              "       [-0.14871333, -0.87627458,  2.07923989, -0.03129801,  0.18702117],\n",
              "       [-0.13121764,  1.1411948 , -1.49693712, -0.03129801, -0.35811309],\n",
              "       [-0.11372196,  1.1411948 ,  0.64876908,  0.00842639, -0.0466078 ],\n",
              "       [-0.09622627, -0.87627458,  0.07658076,  0.00842639, -0.39705125],\n",
              "       [-0.07873059, -0.87627458, -0.49560756,  0.00842639, -0.31917493],\n",
              "       [-0.0612349 ,  1.1411948 , -1.06779588,  0.00842639,  0.07020669],\n",
              "       [-0.04373921, -0.87627458,  0.57724554,  0.00842639, -0.12448412],\n",
              "       [-0.02624353, -0.87627458, -0.85322526,  0.00842639, -0.00766964],\n",
              "       [-0.00874784,  1.1411948 ,  0.64876908,  0.04815078, -0.31917493],\n",
              "       [ 0.00874784,  1.1411948 , -1.35389004,  0.04815078, -0.0466078 ],\n",
              "       [ 0.02624353, -0.87627458, -1.13931942,  0.08787518, -0.35811309],\n",
              "       [ 0.04373921, -0.87627458,  0.72029262,  0.08787518, -0.08554596],\n",
              "       [ 0.0612349 ,  1.1411948 ,  2.00771635,  0.08787518,  0.34277382],\n",
              "       [ 0.07873059,  1.1411948 , -0.9247488 ,  0.08787518,  0.18702117],\n",
              "       [ 0.09622627,  1.1411948 ,  0.72029262,  0.08787518,  0.22595933],\n",
              "       [ 0.11372196, -0.87627458, -1.2823665 ,  0.08787518, -0.31917493],\n",
              "       [ 0.13121764, -0.87627458,  1.93619281,  0.12759957, -0.00766964],\n",
              "       [ 0.14871333,  1.1411948 ,  1.07791032,  0.12759957, -0.16342228],\n",
              "       [ 0.16620902,  1.1411948 ,  2.07923989,  0.12759957, -0.28023677],\n",
              "       [ 0.1837047 ,  1.1411948 ,  1.93619281,  0.12759957, -0.08554596],\n",
              "       [ 0.20120039,  1.1411948 ,  1.86466927,  0.12759957,  0.07020669],\n",
              "       [ 0.21869607, -0.87627458, -1.42541358,  0.12759957,  0.14808301],\n",
              "       [ 0.23619176, -0.87627458, -0.06646632,  0.16732397, -0.31917493],\n",
              "       [ 0.25368744,  1.1411948 , -1.42541358,  0.16732397, -0.16342228],\n",
              "       [ 0.27118313, -0.87627458, -1.49693712,  0.20704836, -0.08554596],\n",
              "       [ 0.28867882, -0.87627458, -1.42541358,  0.20704836, -0.00766964],\n",
              "       [ 0.3061745 , -0.87627458,  1.72162218,  0.20704836, -0.28023677],\n",
              "       [ 0.32367019, -0.87627458,  0.72029262,  0.20704836,  0.34277382],\n",
              "       [ 0.34116587, -0.87627458,  0.8633397 ,  0.28649716, -0.28023677],\n",
              "       [ 0.35866156, -0.87627458,  0.79181616,  0.28649716,  0.26489749],\n",
              "       [ 0.37615725,  1.1411948 , -0.85322526,  0.28649716,  0.22595933],\n",
              "       [ 0.39365293, -0.87627458, -0.06646632,  0.28649716, -0.39705125],\n",
              "       [ 0.41114862, -0.87627458,  0.07658076,  0.36594595,  0.30383565],\n",
              "       [ 0.4286443 ,  1.1411948 ,  0.00505722,  0.36594595,  1.58879498],\n",
              "       [ 0.44613999, -0.87627458, -1.13931942,  0.40567034, -0.82537103],\n",
              "       [ 0.46363567, -0.87627458, -0.5671311 ,  0.40567034,  1.04366072],\n",
              "       [ 0.48113136,  1.1411948 ,  0.29115138,  0.44539474, -0.59174206],\n",
              "       [ 0.49862705,  1.1411948 ,  0.07658076,  0.44539474,  1.74454763],\n",
              "       [ 0.51612273,  1.1411948 ,  1.43552802,  0.44539474, -1.52625794],\n",
              "       [ 0.53361842,  1.1411948 , -0.06646632,  0.44539474,  0.9657844 ],\n",
              "       [ 0.5511141 ,  1.1411948 ,  0.57724554,  0.44539474, -1.60413426],\n",
              "       [ 0.56860979,  1.1411948 ,  0.00505722,  0.44539474,  0.9657844 ],\n",
              "       [ 0.58610548, -0.87627458, -0.99627234,  0.48511913, -0.63068022],\n",
              "       [ 0.60360116, -0.87627458, -0.5671311 ,  0.48511913,  0.81003175],\n",
              "       [ 0.62109685,  1.1411948 , -1.35389004,  0.52484353, -1.75988691],\n",
              "       [ 0.63859253, -0.87627458, -0.71017818,  0.52484353,  1.4719805 ],\n",
              "       [ 0.65608822, -0.87627458,  0.36267492,  0.52484353, -1.68201058],\n",
              "       [ 0.6735839 ,  1.1411948 , -0.49560756,  0.52484353,  0.88790808],\n",
              "       [ 0.69107959,  1.1411948 , -1.42541358,  0.56456792, -1.5651961 ],\n",
              "       [ 0.70857528, -0.87627458, -0.28103694,  0.56456792,  0.84896992],\n",
              "       [ 0.72607096, -0.87627458,  1.29248094,  0.60429232, -1.75988691],\n",
              "       [ 0.74356665,  1.1411948 , -0.49560756,  0.60429232,  1.66667131],\n",
              "       [ 0.76106233, -0.87627458, -0.78170172,  0.64401671, -0.39705125],\n",
              "       [ 0.77855802, -0.87627458, -0.49560756,  0.64401671,  1.43304234],\n",
              "       [ 0.79605371,  1.1411948 , -0.99627234,  0.68374111, -1.48731978],\n",
              "       [ 0.81354939,  1.1411948 , -0.78170172,  0.68374111,  1.82242395],\n",
              "       [ 0.83104508,  1.1411948 ,  0.64876908,  0.68374111, -0.5528039 ],\n",
              "       [ 0.84854076, -0.87627458, -0.49560756,  0.68374111,  0.92684624],\n",
              "       [ 0.86603645, -0.87627458, -0.35256048,  0.72346551, -1.09793816],\n",
              "       [ 0.88353213,  1.1411948 , -0.35256048,  0.72346551,  1.54985682],\n",
              "       [ 0.90102782,  1.1411948 ,  0.29115138,  0.72346551, -1.29262897],\n",
              "       [ 0.91852351,  1.1411948 ,  0.00505722,  0.72346551,  1.4719805 ],\n",
              "       [ 0.93601919, -0.87627458,  0.36267492,  0.72346551, -1.17581448],\n",
              "       [ 0.95351488, -0.87627458, -0.06646632,  0.72346551,  1.00472256],\n",
              "       [ 0.97101056, -0.87627458,  0.57724554,  0.72346551, -1.33156713],\n",
              "       [ 0.98850625, -0.87627458, -0.85322526,  0.72346551,  1.51091866],\n",
              "       [ 1.00600194,  1.1411948 , -0.13798986,  0.72346551, -1.91563955],\n",
              "       [ 1.02349762, -0.87627458, -0.63865464,  0.72346551,  1.08259888],\n",
              "       [ 1.04099331,  1.1411948 , -0.35256048,  0.72346551, -1.91563955],\n",
              "       [ 1.05848899, -0.87627458, -0.63865464,  0.72346551,  0.88790808],\n",
              "       [ 1.07598468, -0.87627458,  1.2209574 ,  0.7631899 , -0.59174206],\n",
              "       [ 1.09348037, -0.87627458, -0.71017818,  0.7631899 ,  1.27728969],\n",
              "       [ 1.11097605,  1.1411948 , -1.42541358,  0.84263869, -1.75988691],\n",
              "       [ 1.12847174, -0.87627458, -0.5671311 ,  0.84263869,  1.66667131],\n",
              "       [ 1.14596742,  1.1411948 ,  0.79181616,  1.00153627, -0.94218551],\n",
              "       [ 1.16346311, -0.87627458, -0.2095134 ,  1.00153627,  0.9657844 ],\n",
              "       [ 1.18095879,  1.1411948 ,  0.21962784,  1.04126067, -1.17581448],\n",
              "       [ 1.19845448, -0.87627458, -0.42408402,  1.04126067,  1.74454763],\n",
              "       [ 1.21595017, -0.87627458, -0.2095134 ,  1.08098506, -0.90324735],\n",
              "       [ 1.23344585,  1.1411948 , -0.49560756,  1.08098506,  0.49852646],\n",
              "       [ 1.25094154,  1.1411948 ,  0.07658076,  1.08098506, -1.44838161],\n",
              "       [ 1.26843722,  1.1411948 , -0.78170172,  1.08098506,  0.9657844 ],\n",
              "       [ 1.28593291,  1.1411948 , -0.2095134 ,  1.08098506, -1.5651961 ],\n",
              "       [ 1.3034286 ,  1.1411948 , -0.2095134 ,  1.08098506,  1.62773315],\n",
              "       [ 1.32092428, -0.87627458,  0.93486324,  1.12070946, -1.44838161],\n",
              "       [ 1.33841997, -0.87627458, -0.63865464,  1.12070946,  1.39410418],\n",
              "       [ 1.35591565,  1.1411948 ,  1.36400448,  1.12070946, -1.37050529],\n",
              "       [ 1.37341134,  1.1411948 , -0.85322526,  1.12070946,  0.73215543],\n",
              "       [ 1.39090702,  1.1411948 ,  1.43552802,  1.31933144, -1.40944345],\n",
              "       [ 1.40840271,  1.1411948 , -0.28103694,  1.31933144,  1.54985682],\n",
              "       [ 1.4258984 , -0.87627458, -0.13798986,  1.47822902, -0.70855655],\n",
              "       [ 1.44339408, -0.87627458, -0.49560756,  1.47822902,  1.39410418],\n",
              "       [ 1.46088977,  1.1411948 ,  0.505722  ,  1.51795342, -1.37050529],\n",
              "       [ 1.47838545, -0.87627458, -0.71017818,  1.51795342,  1.4719805 ],\n",
              "       [ 1.49588114, -0.87627458,  0.1481043 ,  1.55767781, -0.43598941],\n",
              "       [ 1.51337683,  1.1411948 , -0.63865464,  1.55767781,  1.82242395],\n",
              "       [ 1.53087251, -0.87627458,  1.07791032,  1.6371266 , -1.02006184],\n",
              "       [ 1.5483682 ,  1.1411948 , -0.78170172,  1.6371266 ,  0.69321727],\n",
              "       [ 1.56586388, -0.87627458,  0.1481043 ,  1.71657539, -1.29262897],\n",
              "       [ 1.58335957, -0.87627458, -0.2095134 ,  1.71657539,  1.35516602],\n",
              "       [ 1.60085525, -0.87627458, -0.35256048,  1.71657539, -1.059     ],\n",
              "       [ 1.61835094, -0.87627458, -0.49560756,  1.71657539,  0.73215543],\n",
              "       [ 1.63584663,  1.1411948 , -0.42408402,  2.11381935, -1.64307242],\n",
              "       [ 1.65334231, -0.87627458, -0.06646632,  2.11381935,  1.58879498],\n",
              "       [ 1.670838  , -0.87627458,  0.57724554,  2.39189012, -1.33156713],\n",
              "       [ 1.68833368, -0.87627458, -0.28103694,  2.39189012,  1.12153705],\n",
              "       [ 1.70582937, -0.87627458,  0.43419846,  2.63023649, -0.86430919],\n",
              "       [ 1.72332506,  1.1411948 , -0.49560756,  2.63023649,  0.92684624]])"
            ]
          },
          "metadata": {},
          "execution_count": 55
        }
      ]
    },
    {
      "cell_type": "markdown",
      "source": [
        "# ***9. Perform any of the clustering algorithms***"
      ],
      "metadata": {
        "id": "Pti4sK07yaDe"
      }
    },
    {
      "cell_type": "code",
      "source": [
        "from sklearn.cluster import KMeans"
      ],
      "metadata": {
        "id": "WNAd6I97o2Vx"
      },
      "execution_count": 56,
      "outputs": []
    },
    {
      "cell_type": "code",
      "source": [
        "x = data.iloc[:, [3, 4]].values"
      ],
      "metadata": {
        "id": "U7WcSH8ipaqU"
      },
      "execution_count": 57,
      "outputs": []
    },
    {
      "cell_type": "code",
      "source": [
        "list= []  \n",
        "   \n",
        "for i in range(1, 11):  \n",
        "    kmeans = KMeans(n_clusters=i, init='k-means++', random_state= 42)  \n",
        "    kmeans.fit(x)  \n",
        "    list.append(kmeans.inertia_)  \n",
        "plt.plot(range(1, 11), list)  \n",
        "plt.title('The Elobw Method Graph')  \n",
        "plt.xlabel('Number of clusters(k)')  \n",
        "plt.ylabel('wcss_list')  \n",
        "plt.show()"
      ],
      "metadata": {
        "colab": {
          "base_uri": "https://localhost:8080/",
          "height": 295
        },
        "id": "TFbFlXHspgsT",
        "outputId": "23e79d89-e82b-4baa-fdda-fbf819c221ca"
      },
      "execution_count": 58,
      "outputs": [
        {
          "output_type": "display_data",
          "data": {
            "text/plain": [
              "<Figure size 432x288 with 1 Axes>"
            ],
            "image/png": "[encoded data removed]"
          },
          "metadata": {
            "needs_background": "light"
          }
        }
      ]
    },
    {
      "cell_type": "code",
      "source": [
        "kmeans = KMeans(n_clusters=5, init='k-means++', random_state= 42)  \n",
        "y_predict= kmeans.fit_predict(x)"
      ],
      "metadata": {
        "id": "k3AhXnqGqI9D"
      },
      "execution_count": 59,
      "outputs": []
    },
    {
      "cell_type": "code",
      "source": [
        "plt.scatter(x[y_predict == 0, 0], x[y_predict == 0, 1], s = 100, c = 'lime', label = 'Cluster 1') #for first cluster  \n",
        "plt.scatter(x[y_predict == 1, 0], x[y_predict == 1, 1], s = 100, c = 'green', label = 'Cluster 2') #for second cluster  \n",
        "plt.scatter(x[y_predict== 2, 0], x[y_predict == 2, 1], s = 100, c = 'red', label = 'Cluster 3') #for third cluster  \n",
        "plt.scatter(x[y_predict == 3, 0], x[y_predict == 3, 1], s = 100, c = 'magenta', label = 'Cluster 4') #for fourth cluster  \n",
        "plt.scatter(x[y_predict == 4, 0], x[y_predict == 4, 1], s = 100, c = 'cyan', label = 'Cluster 5') #for fifth cluster  \n",
        "plt.scatter(kmeans.cluster_centers_[:, 0], kmeans.cluster_centers_[:, 1], s = 300, c = 'yellow', label = 'Centroid')   \n",
        "plt.title('Clusters of customers')  \n",
        "plt.xlabel('Annual Income (k$)')  \n",
        "plt.ylabel('Spending Score (1-100)')  \n",
        "plt.legend()  \n",
        "plt.show()"
      ],
      "metadata": {
        "colab": {
          "base_uri": "https://localhost:8080/",
          "height": 295
        },
        "id": "UcyBwsHFq5BB",
        "outputId": "1599a6a6-8cfe-4e49-a8bc-232b566e99f2"
      },
      "execution_count": 60,
      "outputs": [
        {
          "output_type": "display_data",
          "data": {
            "text/plain": [
              "<Figure size 432x288 with 1 Axes>"
            ],
            "image/png": "[encoded data removed]"
          },
          "metadata": {
            "needs_background": "light"
          }
        }
      ]
    },
    {
      "cell_type": "markdown",
      "source": [
        "# ***10. Add the cluster data with the primary dataset***"
      ],
      "metadata": {
        "id": "d5xwg1GqrnHH"
      }
    },
    {
      "cell_type": "code",
      "source": [
        "data['Cluster']=kmeans.labels_\n",
        "data.head()"
      ],
      "metadata": {
        "colab": {
          "base_uri": "https://localhost:8080/",
          "height": 206
        },
        "id": "M63YS40urpZK",
        "outputId": "3f9fa908-9a38-42f4-b888-175cbc8e83a2"
      },
      "execution_count": 61,
      "outputs": [
        {
          "output_type": "execute_result",
          "data": {
            "text/plain": [
              "   CustomerID  Gender  Age  Annual Income (k$)  Spending Score (1-100)  \\\n",
              "0           1       1   19                  15                      39   \n",
              "1           2       1   21                  15                      81   \n",
              "2           3       0   20                  16                       6   \n",
              "3           4       0   23                  16                      77   \n",
              "4           5       0   31                  17                      40   \n",
              "\n",
              "   Cluster  \n",
              "0        3  \n",
              "1        2  \n",
              "2        3  \n",
              "3        2  \n",
              "4        3  "
            ],
            "text/html": [
              "\n",
              "  <div id=\"df-6f81b915-986c-486a-bbf4-d5826b8ce136\">\n",
              "    <div class=\"colab-df-container\">\n",
              "      <div>\n",
              "<style scoped>\n",
              "    .dataframe tbody tr th:only-of-type {\n",
              "        vertical-align: middle;\n",
              "    }\n",
              "\n",
              "    .dataframe tbody tr th {\n",
              "        vertical-align: top;\n",
              "    }\n",
              "\n",
              "    .dataframe thead th {\n",
              "        text-align: right;\n",
              "    }\n",
              "</style>\n",
              "<table border=\"1\" class=\"dataframe\">\n",
              "  <thead>\n",
              "    <tr style=\"text-align: right;\">\n",
              "      <th></th>\n",
              "      <th>CustomerID</th>\n",
              "      <th>Gender</th>\n",
              "      <th>Age</th>\n",
              "      <th>Annual Income (k$)</th>\n",
              "      <th>Spending Score (1-100)</th>\n",
              "      <th>Cluster</th>\n",
              "    </tr>\n",
              "  </thead>\n",
              "  <tbody>\n",
              "    <tr>\n",
              "      <th>0</th>\n",
              "      <td>1</td>\n",
              "      <td>1</td>\n",
              "      <td>19</td>\n",
              "      <td>15</td>\n",
              "      <td>39</td>\n",
              "      <td>3</td>\n",
              "    </tr>\n",
              "    <tr>\n",
              "      <th>1</th>\n",
              "      <td>2</td>\n",
              "      <td>1</td>\n",
              "      <td>21</td>\n",
              "      <td>15</td>\n",
              "      <td>81</td>\n",
              "      <td>2</td>\n",
              "    </tr>\n",
              "    <tr>\n",
              "      <th>2</th>\n",
              "      <td>3</td>\n",
              "      <td>0</td>\n",
              "      <td>20</td>\n",
              "      <td>16</td>\n",
              "      <td>6</td>\n",
              "      <td>3</td>\n",
              "    </tr>\n",
              "    <tr>\n",
              "      <th>3</th>\n",
              "      <td>4</td>\n",
              "      <td>0</td>\n",
              "      <td>23</td>\n",
              "      <td>16</td>\n",
              "      <td>77</td>\n",
              "      <td>2</td>\n",
              "    </tr>\n",
              "    <tr>\n",
              "      <th>4</th>\n",
              "      <td>5</td>\n",
              "      <td>0</td>\n",
              "      <td>31</td>\n",
              "      <td>17</td>\n",
              "      <td>40</td>\n",
              "      <td>3</td>\n",
              "    </tr>\n",
              "  </tbody>\n",
              "</table>\n",
              "</div>\n",
              "      <button class=\"colab-df-convert\" onclick=\"convertToInteractive('df-6f81b915-986c-486a-bbf4-d5826b8ce136')\"\n",
              "              title=\"Convert this dataframe to an interactive table.\"\n",
              "              style=\"display:none;\">\n",
              "        \n",
              "  <svg xmlns=\"http://www.w3.org/2000/svg\" height=\"24px\"viewBox=\"0 0 24 24\"\n",
              "       width=\"24px\">\n",
              "    <path d=\"M0 0h24v24H0V0z\" fill=\"none\"/>\n",
              "    <path d=\"M18.56 5.44l.94 2.06.94-2.06 2.06-.94-2.06-.94-.94-2.06-.94 2.06-2.06.94zm-11 1L8.5 8.5l.94-2.06 2.06-.94-2.06-.94L8.5 2.5l-.94 2.06-2.06.94zm10 10l.94 2.06.94-2.06 2.06-.94-2.06-.94-.94-2.06-.94 2.06-2.06.94z\"/><path d=\"M17.41 7.96l-1.37-1.37c-.4-.4-.92-.59-1.43-.59-.52 0-1.04.2-1.43.59L10.3 9.45l-7.72 7.72c-.78.78-.78 2.05 0 2.83L4 21.41c.39.39.9.59 1.41.59.51 0 1.02-.2 1.41-.59l7.78-7.78 2.81-2.81c.8-.78.8-2.07 0-2.86zM5.41 20L4 18.59l7.72-7.72 1.47 1.35L5.41 20z\"/>\n",
              "  </svg>\n",
              "      </button>\n",
              "      \n",
              "  <style>\n",
              "    .colab-df-container {\n",
              "      display:flex;\n",
              "      flex-wrap:wrap;\n",
              "      gap: 12px;\n",
              "    }\n",
              "\n",
              "    .colab-df-convert {\n",
              "      background-color: #E8F0FE;\n",
              "      border: none;\n",
              "      border-radius: 50%;\n",
              "      cursor: pointer;\n",
              "      display: none;\n",
              "      fill: #1967D2;\n",
              "      height: 32px;\n",
              "      padding: 0 0 0 0;\n",
              "      width: 32px;\n",
              "    }\n",
              "\n",
              "    .colab-df-convert:hover {\n",
              "      background-color: #E2EBFA;\n",
              "      box-shadow: 0px 1px 2px rgba(60, 64, 67, 0.3), 0px 1px 3px 1px rgba(60, 64, 67, 0.15);\n",
              "      fill: #174EA6;\n",
              "    }\n",
              "\n",
              "    [theme=dark] .colab-df-convert {\n",
              "      background-color: #3B4455;\n",
              "      fill: #D2E3FC;\n",
              "    }\n",
              "\n",
              "    [theme=dark] .colab-df-convert:hover {\n",
              "      background-color: #434B5C;\n",
              "      box-shadow: 0px 1px 3px 1px rgba(0, 0, 0, 0.15);\n",
              "      filter: drop-shadow(0px 1px 2px rgba(0, 0, 0, 0.3));\n",
              "      fill: #FFFFFF;\n",
              "    }\n",
              "  </style>\n",
              "\n",
              "      <script>\n",
              "        const buttonEl =\n",
              "          document.querySelector('#df-6f81b915-986c-486a-bbf4-d5826b8ce136 button.colab-df-convert');\n",
              "        buttonEl.style.display =\n",
              "          google.colab.kernel.accessAllowed ? 'block' : 'none';\n",
              "\n",
              "        async function convertToInteractive(key) {\n",
              "          const element = document.querySelector('#df-6f81b915-986c-486a-bbf4-d5826b8ce136');\n",
              "          const dataTable =\n",
              "            await google.colab.kernel.invokeFunction('convertToInteractive',\n",
              "                                                     [key], {});\n",
              "          if (!dataTable) return;\n",
              "\n",
              "          const docLinkHtml = 'Like what you see? Visit the ' +\n",
              "            '<a target=\"_blank\" href=https://colab.research.google.com/notebooks/data_table.ipynb>data table notebook</a>'\n",
              "            + ' to learn more about interactive tables.';\n",
              "          element.innerHTML = '';\n",
              "          dataTable['output_type'] = 'display_data';\n",
              "          await google.colab.output.renderOutput(dataTable, element);\n",
              "          const docLink = document.createElement('div');\n",
              "          docLink.innerHTML = docLinkHtml;\n",
              "          element.appendChild(docLink);\n",
              "        }\n",
              "      </script>\n",
              "    </div>\n",
              "  </div>\n",
              "  "
            ]
          },
          "metadata": {},
          "execution_count": 61
        }
      ]
    },
    {
      "cell_type": "markdown",
      "source": [
        "# ***11. Split the data into dependent and independent variables.***"
      ],
      "metadata": {
        "id": "KinqG_iJr_Rs"
      }
    },
    {
      "cell_type": "code",
      "source": [
        "X = data.drop([\"Cluster\"], axis=1)\n",
        "y = data[\"Cluster\"]"
      ],
      "metadata": {
        "id": "F4ZqloETsMdw"
      },
      "execution_count": 62,
      "outputs": []
    },
    {
      "cell_type": "markdown",
      "source": [
        "# ***12. Split the data into training and testing***"
      ],
      "metadata": {
        "id": "rXSz71ZXtTYT"
      }
    },
    {
      "cell_type": "code",
      "source": [
        "from sklearn.model_selection import train_test_split\n",
        "X_train, X_test, y_train, y_test = train_test_split(X, y, test_size=0.25, random_state= 42)"
      ],
      "metadata": {
        "id": "MQrxVJkDsHA-"
      },
      "execution_count": 63,
      "outputs": []
    },
    {
      "cell_type": "code",
      "source": [
        "print(X_train.shape)\n",
        "print(X_test.shape)\n",
        "print(y_train.shape)\n",
        "print(y_test.shape)"
      ],
      "metadata": {
        "colab": {
          "base_uri": "https://localhost:8080/"
        },
        "id": "56yZabmhsmSI",
        "outputId": "c06a3015-68d5-4930-bdb0-67f92a51ee0f"
      },
      "execution_count": 64,
      "outputs": [
        {
          "output_type": "stream",
          "name": "stdout",
          "text": [
            "(148, 5)\n",
            "(50, 5)\n",
            "(148,)\n",
            "(50,)\n"
          ]
        }
      ]
    },
    {
      "cell_type": "markdown",
      "source": [
        "# ***13. Build the Model***"
      ],
      "metadata": {
        "id": "soJmLE3otYQr"
      }
    },
    {
      "cell_type": "code",
      "source": [
        "from sklearn.linear_model import LogisticRegression\n",
        "model = LogisticRegression()\n",
        "model.fit(X_train, y_train)"
      ],
      "metadata": {
        "colab": {
          "base_uri": "https://localhost:8080/"
        },
        "id": "jGvn57DktdgU",
        "outputId": "c99e87ba-9ff8-4f55-c0ec-c6524a7da96e"
      },
      "execution_count": 65,
      "outputs": [
        {
          "output_type": "execute_result",
          "data": {
            "text/plain": [
              "LogisticRegression()"
            ]
          },
          "metadata": {},
          "execution_count": 65
        }
      ]
    },
    {
      "cell_type": "markdown",
      "source": [
        "# ***14. Train the Model***"
      ],
      "metadata": {
        "id": "St5vm1rhuEek"
      }
    },
    {
      "cell_type": "code",
      "source": [
        "model.score(X_train, y_train)"
      ],
      "metadata": {
        "colab": {
          "base_uri": "https://localhost:8080/"
        },
        "id": "LAlsoiCPuPHw",
        "outputId": "714d9cef-0cad-4505-e326-86ba41fc077e"
      },
      "execution_count": 66,
      "outputs": [
        {
          "output_type": "execute_result",
          "data": {
            "text/plain": [
              "0.9594594594594594"
            ]
          },
          "metadata": {},
          "execution_count": 66
        }
      ]
    },
    {
      "cell_type": "markdown",
      "source": [
        "# ***15. Test the Model***"
      ],
      "metadata": {
        "id": "-ArteExCufjx"
      }
    },
    {
      "cell_type": "code",
      "source": [
        "model.score(X_train, y_train)"
      ],
      "metadata": {
        "colab": {
          "base_uri": "https://localhost:8080/"
        },
        "id": "OZGPfS19uYgH",
        "outputId": "4d849902-e7f7-45f6-bfc8-94d9444c82bb"
      },
      "execution_count": 67,
      "outputs": [
        {
          "output_type": "execute_result",
          "data": {
            "text/plain": [
              "0.9594594594594594"
            ]
          },
          "metadata": {},
          "execution_count": 67
        }
      ]
    },
    {
      "cell_type": "markdown",
      "source": [
        "# ***16. Measure the performance using Evaluation Metrics.***"
      ],
      "metadata": {
        "id": "j9CtF5c4ujbu"
      }
    },
    {
      "cell_type": "code",
      "source": [
        "from sklearn.metrics import confusion_matrix, accuracy_score, classification_report"
      ],
      "metadata": {
        "id": "5dEd17H1uoXO"
      },
      "execution_count": 68,
      "outputs": []
    },
    {
      "cell_type": "code",
      "source": [
        "prediction = model.predict(X_test)"
      ],
      "metadata": {
        "id": "vqb99IQou466"
      },
      "execution_count": 69,
      "outputs": []
    },
    {
      "cell_type": "code",
      "source": [
        "confusion_matrix(y_test, prediction)"
      ],
      "metadata": {
        "colab": {
          "base_uri": "https://localhost:8080/"
        },
        "id": "zUukf-j0vEM3",
        "outputId": "b77aac12-d36b-403e-b1a5-ac442d2d5828"
      },
      "execution_count": 70,
      "outputs": [
        {
          "output_type": "execute_result",
          "data": {
            "text/plain": [
              "array([[16,  1,  0,  0,  4],\n",
              "       [ 0,  7,  0,  0,  0],\n",
              "       [ 1,  0,  5,  0,  0],\n",
              "       [ 0,  0,  0,  5,  0],\n",
              "       [ 0,  0,  0,  0, 11]])"
            ]
          },
          "metadata": {},
          "execution_count": 70
        }
      ]
    },
    {
      "cell_type": "code",
      "source": [
        "accuracy_score(y_test, prediction)"
      ],
      "metadata": {
        "colab": {
          "base_uri": "https://localhost:8080/"
        },
        "id": "UrRZBZaVvLBK",
        "outputId": "3c944085-9b82-49e0-844c-9d1d8d420a37"
      },
      "execution_count": 71,
      "outputs": [
        {
          "output_type": "execute_result",
          "data": {
            "text/plain": [
              "0.88"
            ]
          },
          "metadata": {},
          "execution_count": 71
        }
      ]
    },
    {
      "cell_type": "code",
      "source": [
        "z = classification_report(y_test, prediction)\n",
        "print(z)"
      ],
      "metadata": {
        "colab": {
          "base_uri": "https://localhost:8080/"
        },
        "id": "7ffi9NrfvPv5",
        "outputId": "b73921ee-6d23-4ade-ac63-76dd7125fa3d"
      },
      "execution_count": 73,
      "outputs": [
        {
          "output_type": "stream",
          "name": "stdout",
          "text": [
            "              precision    recall  f1-score   support\n",
            "\n",
            "           0       0.94      0.76      0.84        21\n",
            "           1       0.88      1.00      0.93         7\n",
            "           2       1.00      0.83      0.91         6\n",
            "           3       1.00      1.00      1.00         5\n",
            "           4       0.73      1.00      0.85        11\n",
            "\n",
            "    accuracy                           0.88        50\n",
            "   macro avg       0.91      0.92      0.91        50\n",
            "weighted avg       0.90      0.88      0.88        50\n",
            "\n"
          ]
        }
      ]
    }
  ]
}
