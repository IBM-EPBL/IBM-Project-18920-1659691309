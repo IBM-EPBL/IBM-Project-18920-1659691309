Model Evaluation
from sklearn.metrics import r2_score,mean_squared_error
acc = r2_score(y_test, y_pred)
acc
0.7982144965219405
err=np.sqrt(mean_squared_error(y_test,y_pred))
err
3.6746952254574805
Exporting the model
import pickle
pickle.dump(rf,open('RFregression.pkl','wb'))
 
